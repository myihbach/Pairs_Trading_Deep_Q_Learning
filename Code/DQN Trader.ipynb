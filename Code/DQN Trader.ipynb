{
 "cells": [
  {
   "cell_type": "code",
   "execution_count": 1,
   "metadata": {},
   "outputs": [],
   "source": [
    "import torch.nn as nn\n",
    "import torch.nn.functional as F\n",
    "import torch\n",
    "from collections import deque\n",
    "import random\n",
    "import pandas as pd\n",
    "import numpy as np\n",
    "import torch.optim as optim"
   ]
  },
  {
   "cell_type": "code",
   "execution_count": 2,
   "metadata": {},
   "outputs": [],
   "source": [
    "class DQN(nn.Module):\n",
    "    def __init__(self):\n",
    "        super().__init__()\n",
    "        # Defining network to optimize our Q function\n",
    "        self.input = nn.Linear(30,256)\n",
    "        self.out = nn.Linear(256, 3)\n",
    "    ## Forward propagation\n",
    "    def forward(self, x):\n",
    "        x = self.input(x)\n",
    "        x = F.relu(x)\n",
    "        x = self.out(x)\n",
    "     \n",
    "        return x\n",
    "    ## Train model\n",
    "    def train(self,X,Y):\n",
    "        criterion = nn.MSELoss()\n",
    "        optimizer = optim.Adam(self.parameters(), lr=0.001)\n",
    "        running_loss = 0.0\n",
    "        for i in range(len(X)):\n",
    "            inputs, labels= torch.FloatTensor(X[i]), torch.FloatTensor(Y[i])\n",
    "            optimizer.zero_grad()\n",
    "            out = self(inputs)\n",
    "            loss = criterion(out, torch.FloatTensor(Y[i]))\n",
    "            loss.backward()          ## This does back propagation\n",
    "            optimizer.step()         ## To optimize loss function \n",
    "            running_loss+=loss.item()  ## the value of the loss function after training\n",
    "        \n",
    "        return running_loss\n",
    "    \n",
    "    "
   ]
  },
  {
   "cell_type": "code",
   "execution_count": 3,
   "metadata": {},
   "outputs": [],
   "source": [
    "class Agent:\n",
    "    def __init__(self, state_size,window_size,trend, skip,batch_size):\n",
    "        self.state_size = state_size\n",
    "        self.window_size = window_size\n",
    "        self.half_window = window_size // 2\n",
    "        self.trend = trend\n",
    "        self.skip = skip\n",
    "        self.action_size = 3\n",
    "        self.batch_size = batch_size\n",
    "        self.memory = deque(maxlen = 1000)\n",
    "        self.inventory = []\n",
    "\n",
    "        self.gamma = 0.95\n",
    "        self.epsilon = 0.5\n",
    "        self.epsilon_min = 0.01\n",
    "        self.epsilon_decay = 0.999\n",
    "        self.model = DQN()\n",
    "    def act(self,state):\n",
    "        if random.random() <= self.epsilon:\n",
    "            return random.randrange(self.action_size)\n",
    "        return torch.argmax(self.model(torch.FloatTensor(state)))\n",
    "    \n",
    "    def get_state(self,t):\n",
    "        window_size = self.window_size + 1\n",
    "        d = t - window_size + 1\n",
    "        block = self.trend[d : t + 1] if d >= 0 else -d * [self.trend[0]] + self.trend[0 : t + 1]\n",
    "        res = []\n",
    "        for i in range(window_size - 1):\n",
    "            res.append(block[i + 1] - block[i])\n",
    "        return np.array([res])\n",
    "    \n",
    "    def buy(self,initial_money):\n",
    "        starting_money = initial_money\n",
    "        states_sell = []\n",
    "        states_buy = []\n",
    "        inventory = []\n",
    "        state = self.get_state(0)\n",
    "        for t in range(0, len(self.trend) - 1, self.skip):\n",
    "            action = self.act(state)\n",
    "            next_state = self.get_state(t + 1)\n",
    "            \n",
    "            if action == 1 and initial_money >= self.trend[t] and t < (len(self.trend) - self.half_window):\n",
    "                inventory.append(self.trend[t])\n",
    "                initial_money -= self.trend[t]\n",
    "                states_buy.append(t)\n",
    "                print('day %d: buy 1 unit at price %f, total balance %f'% (t, self.trend[t], initial_money))\n",
    "                \n",
    "                \n",
    "            elif action == 2 and len(inventory):\n",
    "                bought_price = inventory.pop(0)\n",
    "                initial_money += self.trend[t]\n",
    "                states_sell.append(t)\n",
    "                try:\n",
    "                    invest = ((close[t] - bought_price) / bought_price) * 100\n",
    "                except:\n",
    "                    invest = 0\n",
    "                print(\n",
    "                    'day %d, sell 1 unit at price %f, investment %f %%, total balance %f,'\n",
    "                    % (t, close[t], invest, initial_money)\n",
    "                )\n",
    "            \n",
    "            state = next_state\n",
    "        invest = ((initial_money - starting_money) / starting_money) * 100\n",
    "        total_gains = initial_money - starting_money\n",
    "        return states_buy, states_sell, total_gains, invest\n",
    "    \n",
    "    def replay(self,batch_size):\n",
    "        mini_batch = []\n",
    "        l = len(self.memory)\n",
    "        for i in range(l-batch_size,l):\n",
    "            mini_batch.append(self.memory[i])\n",
    "        replay_size = len(mini_batch)\n",
    "        X = np.empty((replay_size, self.state_size))\n",
    "        Y = np.empty((replay_size, self.action_size))\n",
    "        states = np.array([a[0][0] for a in mini_batch])\n",
    "        new_states = np.array([a[3][0] for a in mini_batch])\n",
    "        Q = self.model(torch.FloatTensor(states)).tolist()\n",
    "        Q_new = self.model(torch.FloatTensor(new_states)).tolist()\n",
    "\n",
    "        for i in range(len(mini_batch)):\n",
    "            state, action, reward, next_state, done = mini_batch[i]\n",
    "            target = Q[i]\n",
    "            target[action] = reward\n",
    "            \n",
    "            if not done:\n",
    "                target[action] += self.gamma * max(Q_new[i])\n",
    "            X[i] = state\n",
    "            Y[i] = target\n",
    "        cost = self.model.train(X,Y)\n",
    "        if self.epsilon > self.epsilon_min:\n",
    "            self.epsilon *= self.epsilon_decay\n",
    "        return cost\n",
    "    def train(self, iterations, checkpoint, initial_money):\n",
    "        for i in range(iterations):\n",
    "            total_profit = 0\n",
    "            inventory = []\n",
    "            state = self.get_state(0)\n",
    "            starting_money = initial_money\n",
    "            for t in range(0, len(self.trend) - 1, self.skip):\n",
    "                action = self.act(state)\n",
    "                next_state = self.get_state(t + 1)\n",
    "                \n",
    "                if action == 1 and starting_money >= self.trend[t] and t < (len(self.trend) - self.half_window):\n",
    "                    inventory.append(self.trend[t])\n",
    "                    starting_money -= self.trend[t]\n",
    "                \n",
    "                elif action == 2 and len(inventory) > 0:\n",
    "                    bought_price = inventory.pop(0)\n",
    "                    total_profit += self.trend[t] - bought_price\n",
    "                    starting_money += self.trend[t]\n",
    "                    \n",
    "                invest = ((starting_money - initial_money) / initial_money)\n",
    "                self.memory.append((state, action, invest, \n",
    "                                    next_state, starting_money < initial_money))\n",
    "                state = next_state\n",
    "                batch_size = min(self.batch_size, len(self.memory))\n",
    "                cost = self.replay(batch_size)    \n",
    "            if (i+1) % checkpoint == 0:\n",
    "                print('epoch: %d, total rewards: %f.3, cost: %f, total money: %f'%(i + 1, total_profit, cost,\n",
    "                                                                                  starting_money))               \n",
    "                "
   ]
  },
  {
   "cell_type": "code",
   "execution_count": 4,
   "metadata": {},
   "outputs": [],
   "source": [
    "df = pd.read_csv('./GOOG-year.csv')\n",
    "df.head()\n",
    "close = df.Close.values.tolist()\n",
    "initial_money = 10000\n",
    "window_size = 30\n",
    "skip = 1\n",
    "batch_size = 32\n",
    "agent = Agent(state_size = window_size, \n",
    "              window_size = window_size, \n",
    "              trend = close, \n",
    "              skip = skip, \n",
    "              batch_size = batch_size)"
   ]
  },
  {
   "cell_type": "code",
   "execution_count": null,
   "metadata": {},
   "outputs": [
    {
     "name": "stdout",
     "output_type": "stream",
     "text": [
      "epoch: 10, total rewards: 31.819886.3, cost: 0.047374, total money: 10031.819886\n",
      "epoch: 20, total rewards: 106.759891.3, cost: 0.825341, total money: 10106.759891\n",
      "epoch: 30, total rewards: 1.760192.3, cost: 1.630792, total money: 10001.760192\n",
      "epoch: 40, total rewards: -23.690004.3, cost: 0.510278, total money: 9976.309996\n"
     ]
    }
   ],
   "source": [
    "agent.train(iterations = 50, checkpoint = 10, initial_money = initial_money)\n",
    "    \n",
    "    "
   ]
  },
  {
   "cell_type": "code",
   "execution_count": 6,
   "metadata": {},
   "outputs": [
    {
     "name": "stdout",
     "output_type": "stream",
     "text": [
      "day 70: buy 1 unit at price 820.450012, total balance 9179.549988\n",
      "day 71, sell 1 unit at price 818.979980, investment -0.179174 %, total balance 9998.529968,\n",
      "day 101: buy 1 unit at price 831.500000, total balance 9167.029968\n",
      "day 102, sell 1 unit at price 829.559998, investment -0.233314 %, total balance 9996.589966,\n",
      "day 154: buy 1 unit at price 942.309998, total balance 9054.279968\n",
      "day 155, sell 1 unit at price 939.780029, investment -0.268486 %, total balance 9994.059997,\n",
      "day 158: buy 1 unit at price 959.450012, total balance 9034.609985\n",
      "day 159, sell 1 unit at price 957.090027, investment -0.245973 %, total balance 9991.700012,\n",
      "day 169: buy 1 unit at price 918.590027, total balance 9073.109985\n",
      "day 170, sell 1 unit at price 928.799988, investment 1.111482 %, total balance 10001.909973,\n",
      "day 188: buy 1 unit at price 923.650024, total balance 9078.259949\n",
      "day 189, sell 1 unit at price 927.960022, investment 0.466627 %, total balance 10006.219971,\n",
      "day 190: buy 1 unit at price 929.359985, total balance 9076.859986\n",
      "day 191, sell 1 unit at price 926.789978, investment -0.276535 %, total balance 10003.649964,\n",
      "day 195: buy 1 unit at price 922.669983, total balance 9080.979981\n",
      "day 196, sell 1 unit at price 922.219971, investment -0.048773 %, total balance 10003.199952,\n",
      "day 217: buy 1 unit at price 925.109985, total balance 9078.089967\n",
      "day 218, sell 1 unit at price 920.289978, investment -0.521020 %, total balance 9998.379945,\n"
     ]
    }
   ],
   "source": [
    "states_buy, states_sell, total_gains, invest = agent.buy(initial_money = initial_money)"
   ]
  },
  {
   "cell_type": "code",
   "execution_count": 7,
   "metadata": {},
   "outputs": [
    {
     "data": {
      "image/png": "[encoded data removed]",
      "text/plain": [
       "<Figure size 1080x360 with 1 Axes>"
      ]
     },
     "metadata": {
      "needs_background": "light"
     },
     "output_type": "display_data"
    }
   ],
   "source": [
    "import matplotlib.pyplot as plt\n",
    "\n",
    "fig = plt.figure(figsize = (15,5))\n",
    "plt.plot(close, color='r', lw=2.)\n",
    "plt.plot(close, '^', markersize=10, color='m', label = 'buying signal', markevery = states_buy)\n",
    "plt.plot(close, 'v', markersize=10, color='k', label = 'selling signal', markevery = states_sell)\n",
    "plt.title('total gains %f, total investment %f%%'%(total_gains, invest))\n",
    "plt.legend()\n",
    "plt.show()"
   ]
  },
  {
   "cell_type": "code",
   "execution_count": null,
   "metadata": {},
   "outputs": [],
   "source": []
  }
 ],
 "metadata": {
  "kernelspec": {
   "display_name": "Python 3 (ipykernel)",
   "language": "python",
   "name": "python3"
  },
  "language_info": {
   "codemirror_mode": {
    "name": "ipython",
    "version": 3
   },
   "file_extension": ".py",
   "mimetype": "text/x-python",
   "name": "python",
   "nbconvert_exporter": "python",
   "pygments_lexer": "ipython3",
   "version": "3.8.3"
  }
 },
 "nbformat": 4,
 "nbformat_minor": 4
}
