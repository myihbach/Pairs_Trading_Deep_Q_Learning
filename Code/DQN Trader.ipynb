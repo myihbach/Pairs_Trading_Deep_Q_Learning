{
 "cells": [
  {
   "cell_type": "code",
   "execution_count": 1,
   "metadata": {},
   "outputs": [],
   "source": [
    "import torch.nn as nn\n",
    "import torch.nn.functional as F\n",
    "import torch\n",
    "from collections import deque\n",
    "import random\n",
    "import pandas as pd\n",
    "import numpy as np\n",
    "import torch.optim as optim"
   ]
  },
  {
   "cell_type": "code",
   "execution_count": 2,
   "metadata": {},
   "outputs": [],
   "source": [
    "class DQN(nn.Module):\n",
    "    def __init__(self):\n",
    "        super().__init__()\n",
    "        # Defining network to optimize our Q function\n",
    "        self.input = nn.Linear(30,40)\n",
    "        self.out = nn.Linear(40, 3)\n",
    "    ## Forward propagation\n",
    "    def forward(self, x):\n",
    "        x = self.input(x)\n",
    "        x = F.relu(x)\n",
    "        x = self.out(x)\n",
    "     \n",
    "        return x\n",
    "    ## Train model\n",
    "    def train(self,X,Y):\n",
    "        criterion = nn.MSELoss()\n",
    "        optimizer = optim.Adam(self.parameters(), lr=0.001)\n",
    "        running_loss = 0.0\n",
    "        for i in range(len(X)):\n",
    "            inputs, labels= torch.FloatTensor(X[i]), torch.FloatTensor(Y[i])\n",
    "            optimizer.zero_grad()\n",
    "            out = self(inputs)\n",
    "            loss = criterion(out, torch.FloatTensor(Y[i]))\n",
    "            loss.backward()          ## This does back propagation\n",
    "            optimizer.step()         ## To optimize loss function \n",
    "            running_loss+=loss.item()  ## the value of the loss function after training\n",
    "        \n",
    "        return running_loss\n",
    "    \n",
    "    "
   ]
  },
  {
   "cell_type": "code",
   "execution_count": 3,
   "metadata": {},
   "outputs": [],
   "source": [
    "class Agent:\n",
    "    def __init__(self, state_size,window_size,trend, skip,batch_size):\n",
    "        self.state_size = state_size\n",
    "        self.window_size = window_size\n",
    "        self.half_window = window_size // 2\n",
    "        self.trend = trend\n",
    "        self.skip = skip\n",
    "        self.action_size = 3\n",
    "        self.batch_size = batch_size\n",
    "        self.memory = deque(maxlen = 1000)\n",
    "        self.inventory = []\n",
    "\n",
    "        self.gamma = 0.95\n",
    "        self.epsilon = 0.5\n",
    "        self.epsilon_min = 0.01\n",
    "        self.epsilon_decay = 0.999\n",
    "        self.model = DQN()\n",
    "    def act(self,state):\n",
    "        if random.random() <= self.epsilon:\n",
    "            return random.randrange(self.action_size)\n",
    "        return torch.argmax(self.model(torch.FloatTensor(state)))\n",
    "    \n",
    "    def get_state(self,t):\n",
    "        window_size = self.window_size + 1\n",
    "        d = t - window_size + 1\n",
    "        block = self.trend[d : t + 1] if d >= 0 else -d * [self.trend[0]] + self.trend[0 : t + 1]\n",
    "        res = []\n",
    "        for i in range(window_size - 1):\n",
    "            res.append(block[i + 1] - block[i])\n",
    "        return np.array([res])\n",
    "    \n",
    "    def buy(self,initial_money):\n",
    "        starting_money = initial_money\n",
    "        states_sell = []\n",
    "        states_buy = []\n",
    "        inventory = []\n",
    "        state = self.get_state(0)\n",
    "        for t in range(0, len(self.trend) - 1, self.skip):\n",
    "            action = self.act(state)\n",
    "            next_state = self.get_state(t + 1)\n",
    "            \n",
    "            if action == 1 and initial_money >= self.trend[t] and t < (len(self.trend) - self.half_window):\n",
    "                inventory.append(self.trend[t])\n",
    "                initial_money -= self.trend[t]\n",
    "                states_buy.append(t)\n",
    "                print('day %d: buy 1 unit at price %f, total balance %f'% (t, self.trend[t], initial_money))\n",
    "                \n",
    "                \n",
    "            elif action == 2 and len(inventory):\n",
    "                bought_price = inventory.pop(0)\n",
    "                initial_money += self.trend[t]\n",
    "                states_sell.append(t)\n",
    "                try:\n",
    "                    invest = ((close[t] - bought_price) / bought_price) * 100\n",
    "                except:\n",
    "                    invest = 0\n",
    "                print(\n",
    "                    'day %d, sell 1 unit at price %f, investment %f %%, total balance %f,'\n",
    "                    % (t, close[t], invest, initial_money)\n",
    "                )\n",
    "            \n",
    "            state = next_state\n",
    "        invest = ((initial_money - starting_money) / starting_money) * 100\n",
    "        total_gains = initial_money - starting_money\n",
    "        return states_buy, states_sell, total_gains, invest\n",
    "    \n",
    "    def replay(self,batch_size):\n",
    "        mini_batch = []\n",
    "        l = len(self.memory)\n",
    "        for i in range(l-batch_size,l):\n",
    "            mini_batch.append(self.memory[i])\n",
    "        replay_size = len(mini_batch)\n",
    "        X = np.empty((replay_size, self.state_size))\n",
    "        Y = np.empty((replay_size, self.action_size))\n",
    "        states = np.array([a[0][0] for a in mini_batch])\n",
    "        new_states = np.array([a[3][0] for a in mini_batch])\n",
    "        Q = self.model(torch.FloatTensor(states)).tolist()\n",
    "        Q_new = self.model(torch.FloatTensor(new_states)).tolist()\n",
    "\n",
    "        for i in range(len(mini_batch)):\n",
    "            state, action, reward, next_state, done = mini_batch[i]\n",
    "            target = Q[i]\n",
    "            target[action] = reward\n",
    "            \n",
    "            if not done:\n",
    "                target[action] += self.gamma * max(Q_new[i])\n",
    "            X[i] = state\n",
    "            Y[i] = target\n",
    "        cost = self.model.train(X,Y)\n",
    "        if self.epsilon > self.epsilon_min:\n",
    "            self.epsilon *= self.epsilon_decay\n",
    "        return cost\n",
    "    def train(self, iterations, checkpoint, initial_money):\n",
    "        for i in range(iterations):\n",
    "            total_profit = 0\n",
    "            inventory = []\n",
    "            state = self.get_state(0)\n",
    "            starting_money = initial_money\n",
    "            for t in range(0, len(self.trend) - 1, self.skip):\n",
    "                action = self.act(state)\n",
    "                next_state = self.get_state(t + 1)\n",
    "                \n",
    "                if action == 1 and starting_money >= self.trend[t] and t < (len(self.trend) - self.half_window):\n",
    "                    inventory.append(self.trend[t])\n",
    "                    starting_money -= self.trend[t]\n",
    "                \n",
    "                elif action == 2 and len(inventory) > 0:\n",
    "                    bought_price = inventory.pop(0)\n",
    "                    total_profit += self.trend[t] - bought_price\n",
    "                    starting_money += self.trend[t]\n",
    "                    \n",
    "                invest = ((starting_money - initial_money) / initial_money)\n",
    "                self.memory.append((state, action, invest, \n",
    "                                    next_state, starting_money < initial_money))\n",
    "                state = next_state\n",
    "                batch_size = min(self.batch_size, len(self.memory))\n",
    "                cost = self.replay(batch_size)    \n",
    "            if (i+1) % checkpoint == 0:\n",
    "                print('epoch: %d, total rewards: %f.3, cost: %f, total money: %f'%(i + 1, total_profit, cost,\n",
    "                                                                                  starting_money))               \n",
    "                "
   ]
  },
  {
   "cell_type": "code",
   "execution_count": 4,
   "metadata": {},
   "outputs": [],
   "source": [
    "df = pd.read_csv('./GOOG-year.csv')\n",
    "df.head()\n",
    "close = df.Close.values.tolist()\n",
    "initial_money = 10000\n",
    "window_size = 30\n",
    "skip = 1\n",
    "batch_size = 32\n",
    "agent = Agent(state_size = window_size, \n",
    "              window_size = window_size, \n",
    "              trend = close, \n",
    "              skip = skip, \n",
    "              batch_size = batch_size)"
   ]
  },
  {
   "cell_type": "code",
   "execution_count": 5,
   "metadata": {},
   "outputs": [
    {
     "name": "stdout",
     "output_type": "stream",
     "text": [
      "epoch: 10, total rewards: 1452.189522.3, cost: 0.867242, total money: 11452.189522\n",
      "epoch: 20, total rewards: 16.039977.3, cost: 0.233438, total money: 10016.039977\n",
      "epoch: 30, total rewards: -18.540039.3, cost: 0.234539, total money: 9981.459961\n",
      "epoch: 40, total rewards: -13.029968.3, cost: 0.579243, total money: 9986.970032\n",
      "epoch: 50, total rewards: 1.300049.3, cost: 2.201249, total money: 10001.300049\n",
      "epoch: 60, total rewards: 5.749939.3, cost: 1.103594, total money: 10005.749939\n",
      "epoch: 70, total rewards: -2.359985.3, cost: 2.503666, total money: 9997.640015\n",
      "epoch: 80, total rewards: 19.379943.3, cost: 1.553169, total money: 10019.379943\n",
      "epoch: 90, total rewards: -27.279969.3, cost: 0.332722, total money: 9972.720031\n",
      "epoch: 100, total rewards: 42.325073.3, cost: 4.685036, total money: 10042.325073\n"
     ]
    }
   ],
   "source": [
    "agent.train(iterations = 100, checkpoint = 10, initial_money = initial_money)\n",
    "    \n",
    "    "
   ]
  },
  {
   "cell_type": "code",
   "execution_count": 6,
   "metadata": {},
   "outputs": [
    {
     "name": "stdout",
     "output_type": "stream",
     "text": [
      "day 16: buy 1 unit at price 761.679993, total balance 9238.320007\n",
      "day 17, sell 1 unit at price 768.239990, investment 0.861254 %, total balance 10006.559997,\n",
      "day 40: buy 1 unit at price 771.820007, total balance 9234.739990\n",
      "day 41, sell 1 unit at price 786.140015, investment 1.855356 %, total balance 10020.880005,\n",
      "day 59: buy 1 unit at price 802.320007, total balance 9218.559998\n",
      "day 60, sell 1 unit at price 796.789978, investment -0.689255 %, total balance 10015.349976,\n",
      "day 110: buy 1 unit at price 824.320007, total balance 9191.029969\n",
      "day 111, sell 1 unit at price 823.559998, investment -0.092198 %, total balance 10014.589967,\n",
      "day 155: buy 1 unit at price 939.780029, total balance 9074.809938\n",
      "day 157, sell 1 unit at price 950.630005, investment 1.154523 %, total balance 10025.439943,\n",
      "day 159: buy 1 unit at price 957.090027, total balance 9068.349916\n",
      "day 160, sell 1 unit at price 965.590027, investment 0.888109 %, total balance 10033.939943,\n",
      "day 164: buy 1 unit at price 917.789978, total balance 9116.149965\n",
      "day 165, sell 1 unit at price 908.729980, investment -0.987154 %, total balance 10024.879945,\n",
      "day 170: buy 1 unit at price 928.799988, total balance 9096.079957\n",
      "day 172, sell 1 unit at price 943.830017, investment 1.618220 %, total balance 10039.909974,\n",
      "day 191: buy 1 unit at price 926.789978, total balance 9113.119996\n",
      "day 192, sell 1 unit at price 922.900024, investment -0.419723 %, total balance 10036.020020,\n",
      "day 202: buy 1 unit at price 927.000000, total balance 9109.020020\n",
      "day 203, sell 1 unit at price 921.280029, investment -0.617041 %, total balance 10030.300049,\n"
     ]
    }
   ],
   "source": [
    "states_buy, states_sell, total_gains, invest = agent.buy(initial_money = initial_money)"
   ]
  },
  {
   "cell_type": "code",
   "execution_count": 7,
   "metadata": {},
   "outputs": [
    {
     "data": {
      "image/png": "[encoded data removed]",
      "text/plain": [
       "<Figure size 1080x360 with 1 Axes>"
      ]
     },
     "metadata": {
      "needs_background": "light"
     },
     "output_type": "display_data"
    }
   ],
   "source": [
    "import matplotlib.pyplot as plt\n",
    "\n",
    "fig = plt.figure(figsize = (15,5))\n",
    "plt.plot(close, color='r', lw=2.)\n",
    "plt.plot(close, '^', markersize=10, color='m', label = 'buying signal', markevery = states_buy)\n",
    "plt.plot(close, 'v', markersize=10, color='k', label = 'selling signal', markevery = states_sell)\n",
    "plt.title('total gains %f, total investment %f%%'%(total_gains, invest))\n",
    "plt.legend()\n",
    "plt.show()"
   ]
  },
  {
   "cell_type": "code",
   "execution_count": null,
   "metadata": {},
   "outputs": [],
   "source": []
  }
 ],
 "metadata": {
  "kernelspec": {
   "display_name": "Python 3 (ipykernel)",
   "language": "python",
   "name": "python3"
  },
  "language_info": {
   "codemirror_mode": {
    "name": "ipython",
    "version": 3
   },
   "file_extension": ".py",
   "mimetype": "text/x-python",
   "name": "python",
   "nbconvert_exporter": "python",
   "pygments_lexer": "ipython3",
   "version": "3.8.3"
  }
 },
 "nbformat": 4,
 "nbformat_minor": 4
}
