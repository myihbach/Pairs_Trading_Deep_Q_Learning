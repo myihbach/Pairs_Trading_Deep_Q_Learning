{
 "cells": [
  {
   "cell_type": "code",
   "execution_count": 38,
   "metadata": {},
   "outputs": [],
   "source": [
    "import pandas as pd\n",
    "import yfinance as yf\n",
    "import yahooquery as yq\n",
    "import datetime\n",
    "import time\n",
    "import requests\n",
    "import io\n",
    "import os\n",
    "from statsmodels.tsa.stattools import adfuller\n",
    "import statsmodels.api as sm\n",
    "import matplotlib.pyplot as plt"
   ]
  },
  {
   "cell_type": "code",
   "execution_count": 39,
   "metadata": {},
   "outputs": [],
   "source": [
    "def read_symbols(filename):\n",
    "    with open(filename) as f:\n",
    "        temp = [line.strip() for line in f.readlines()]\n",
    "    return temp"
   ]
  },
  {
   "cell_type": "code",
   "execution_count": 40,
   "metadata": {},
   "outputs": [],
   "source": [
    "### Contains the symbols of S&P 500 stocks\n",
    "filename = 'data/SP-500.txt'\n",
    "### To download data for the stocks for a month (actually just 21 days) (every 5 min) \n",
    "start = datetime.datetime(2021,12,1)\n",
    "end = datetime.datetime(2022,1,1)"
   ]
  },
  {
   "cell_type": "code",
   "execution_count": 41,
   "metadata": {},
   "outputs": [],
   "source": [
    "### Get symbols in a list from the TXT file\n",
    "symbols = read_symbols(filename)"
   ]
  },
  {
   "cell_type": "code",
   "execution_count": 8,
   "metadata": {},
   "outputs": [
    {
     "data": {
      "text/plain": [
       "\"tickers = yq.Ticker(symbols[:10], asynchronous=True,adj_ohlc=True)\\ndf = tickers.history(period='1mo', interval='5m',start='2021-12-01')\""
      ]
     },
     "execution_count": 8,
     "metadata": {},
     "output_type": "execute_result"
    }
   ],
   "source": [
    "\"\"\"tickers = yq.Ticker(symbols[:10], asynchronous=True,adj_ohlc=True)\n",
    "df = tickers.history(period='1mo', interval='5m',start='2021-12-01')\"\"\""
   ]
  },
  {
   "cell_type": "markdown",
   "metadata": {},
   "source": [
    "### Download stocks from YFinance"
   ]
  },
  {
   "cell_type": "code",
   "execution_count": 9,
   "metadata": {},
   "outputs": [
    {
     "data": {
      "text/plain": [
       "\"stock_final = {}\\n# iterate over each symbol\\nfor i in symbols:  \\n    \\n    # print the symbol which is being downloaded\\n    print( str(symbols.index(i)) + str(' : ') + i, sep=',', end=',', flush=True)  \\n    try:\\n        # download the stock price \\n        stock = yf.download(i,interval='5m',start=start, end=end)        \\n        # append the individual stock prices \\n        if len(stock) == 0:\\n            None\\n        else:\\n            ## Add to the dict , where the key is the symbol of the stock \\n            ## And the value is the df of history prices\\n            stock_final[i]= stock\\n    except Exception:\\n        None\""
      ]
     },
     "execution_count": 9,
     "metadata": {},
     "output_type": "execute_result"
    }
   ],
   "source": [
    "\"\"\"stock_final = {}\n",
    "# iterate over each symbol\n",
    "for i in symbols:  \n",
    "    \n",
    "    # print the symbol which is being downloaded\n",
    "    print( str(symbols.index(i)) + str(' : ') + i, sep=',', end=',', flush=True)  \n",
    "    try:\n",
    "        # download the stock price \n",
    "        stock = yf.download(i,interval='5m',start=start, end=end)        \n",
    "        # append the individual stock prices \n",
    "        if len(stock) == 0:\n",
    "            None\n",
    "        else:\n",
    "            ## Add to the dict , where the key is the symbol of the stock \n",
    "            ## And the value is the df of history prices\n",
    "            stock_final[i]= stock\n",
    "    except Exception:\n",
    "        None\"\"\""
   ]
  },
  {
   "cell_type": "markdown",
   "metadata": {},
   "source": [
    "### Save the stocks as CSV files"
   ]
  },
  {
   "cell_type": "code",
   "execution_count": 13,
   "metadata": {},
   "outputs": [
    {
     "data": {
      "text/plain": [
       "\"for key in stock_final.keys():\\n    stock_final[key].to_csv('data/2021-december/'+key+'.csv')\""
      ]
     },
     "execution_count": 13,
     "metadata": {},
     "output_type": "execute_result"
    }
   ],
   "source": [
    "## save the dataframes\n",
    "\"\"\"for key in stock_final.keys():\n",
    "    stock_final[key].to_csv('data/2021-december/'+key+'.csv')\"\"\""
   ]
  },
  {
   "cell_type": "markdown",
   "metadata": {},
   "source": [
    "### Read stocks from CSV files"
   ]
  },
  {
   "cell_type": "code",
   "execution_count": 42,
   "metadata": {},
   "outputs": [],
   "source": [
    "stock_final = {}\n",
    "path = 'data/2021-december/'\n",
    "files = os.listdir(path)\n",
    "for file in files:\n",
    "    stock_final[file[:-4]] = pd.read_csv(path+file)"
   ]
  },
  {
   "cell_type": "code",
   "execution_count": 43,
   "metadata": {},
   "outputs": [
    {
     "data": {
      "text/plain": [
       "340"
      ]
     },
     "execution_count": 43,
     "metadata": {},
     "output_type": "execute_result"
    }
   ],
   "source": [
    "len(stock_final)"
   ]
  },
  {
   "cell_type": "markdown",
   "metadata": {},
   "source": [
    "## Find the cointegrated pairs\n",
    "* Stock X and Stock Y are cointegrate means $ Z_t  = X_t - \\beta Y_t $ Where $ Z_t$ Should be stationary.\n",
    "* And Since we don't know $ \\beta $, we should estimate it first ( using Linear regression for instance)\n",
    "* then Test for the stationarity of $Z_t$ using ADF test "
   ]
  },
  {
   "cell_type": "markdown",
   "metadata": {},
   "source": [
    "#### Get the $\\beta$ for every pairs"
   ]
  },
  {
   "cell_type": "code",
   "execution_count": 44,
   "metadata": {},
   "outputs": [],
   "source": [
    "symbols = list(stock_final.keys())"
   ]
  },
  {
   "cell_type": "code",
   "execution_count": 45,
   "metadata": {},
   "outputs": [
    {
     "data": {
      "text/plain": [
       "[<matplotlib.lines.Line2D at 0x7f4822e2e760>]"
      ]
     },
     "execution_count": 45,
     "metadata": {},
     "output_type": "execute_result"
    },
    {
     "data": {
      "image/png": "[encoded data removed]",
      "text/plain": [
       "<Figure size 432x288 with 1 Axes>"
      ]
     },
     "metadata": {
      "needs_background": "light"
     },
     "output_type": "display_data"
    }
   ],
   "source": [
    "plt.plot(stock_final['BBBY'].Close.tolist())"
   ]
  },
  {
   "cell_type": "code",
   "execution_count": 55,
   "metadata": {},
   "outputs": [
    {
     "name": "stdout",
     "output_type": "stream",
     "text": [
      "300\n"
     ]
    }
   ],
   "source": [
    "s = 0\n",
    "for stock , data in stock_final.items():\n",
    "    if data.Close.shape == (1716,):\n",
    "        s+=1\n",
    "print(s)"
   ]
  },
  {
   "cell_type": "code",
   "execution_count": 56,
   "metadata": {},
   "outputs": [
    {
     "name": "stdout",
     "output_type": "stream",
     "text": [
      "0\n"
     ]
    }
   ],
   "source": [
    "s = 0\n",
    "for stock , data in stock_final.items():\n",
    "    if data.Close.isnull().sum() != 0:\n",
    "        s+=1\n",
    "print(s)"
   ]
  },
  {
   "cell_type": "code",
   "execution_count": 48,
   "metadata": {},
   "outputs": [],
   "source": [
    "to_drop_nan = []\n",
    "for stock , data in stock_final.items():\n",
    "    if data.Close.isnull().sum() != 0:\n",
    "       to_drop_nan.append(stock)"
   ]
  },
  {
   "cell_type": "code",
   "execution_count": 49,
   "metadata": {},
   "outputs": [],
   "source": [
    "\"\"\"for stock in to_drop_nan:\n",
    "    stock_final[stock] = stock_final[stock][1:].reset_index()\"\"\""
   ]
  },
  {
   "cell_type": "code",
   "execution_count": 63,
   "metadata": {},
   "outputs": [],
   "source": [
    "final = []\n",
    "for stock , data in stock_final.items():\n",
    "    if data.Close.shape == (1716,):\n",
    "        final.append(stock)"
   ]
  },
  {
   "cell_type": "code",
   "execution_count": 66,
   "metadata": {},
   "outputs": [
    {
     "data": {
      "text/plain": [
       "300"
      ]
     },
     "execution_count": 66,
     "metadata": {},
     "output_type": "execute_result"
    }
   ],
   "source": [
    "len(final)"
   ]
  },
  {
   "cell_type": "code",
   "execution_count": 67,
   "metadata": {},
   "outputs": [],
   "source": [
    "### This step takes few mins\n",
    "nbr_stocks = len(final)\n",
    "beta = {}\n",
    "for i in range(nbr_stocks):\n",
    "    for j in range(i+1,nbr_stocks):\n",
    "        model = sm.OLS(stock_final[final[i]].Close,stock_final[final[j]].Close)\n",
    "        res = model.fit()\n",
    "        beta[(final[i],final[j])] = res.params[0]"
   ]
  },
  {
   "cell_type": "code",
   "execution_count": 68,
   "metadata": {},
   "outputs": [
    {
     "data": {
      "text/plain": [
       "44850"
      ]
     },
     "execution_count": 68,
     "metadata": {},
     "output_type": "execute_result"
    }
   ],
   "source": [
    "len(beta)"
   ]
  },
  {
   "cell_type": "markdown",
   "metadata": {},
   "source": [
    "### The most cointegrated pair"
   ]
  },
  {
   "cell_type": "markdown",
   "metadata": {},
   "source": [
    "#### Calculate the spread using the following formula $ U_t = X_t - \\beta Y_t$"
   ]
  },
  {
   "cell_type": "code",
   "execution_count": 71,
   "metadata": {},
   "outputs": [],
   "source": [
    "spreads = {}\n",
    "for pair , b in beta.items():\n",
    "    spreads[pair] = stock_final[pair[0]].Close - b * stock_final[pair[1]].Close"
   ]
  },
  {
   "cell_type": "markdown",
   "metadata": {},
   "source": [
    "#### ADF test for the stationarity of the spread"
   ]
  },
  {
   "cell_type": "code",
   "execution_count": 72,
   "metadata": {},
   "outputs": [],
   "source": [
    "def get_adf_p_value(spread):\n",
    "    \"\"\"Spread is the difference betweek 2 stocks with a constant Beta\"\"\"\n",
    "    return adfuller(spread)[1]"
   ]
  },
  {
   "cell_type": "code",
   "execution_count": 73,
   "metadata": {},
   "outputs": [],
   "source": [
    "pairs_ADF = {}\n",
    "for pair, spread in spreads.items():\n",
    "    pairs_ADF[pair] = get_adf_p_value(spread)"
   ]
  },
  {
   "cell_type": "code",
   "execution_count": 74,
   "metadata": {},
   "outputs": [
    {
     "data": {
      "text/plain": [
       "('PKI', 'S')"
      ]
     },
     "execution_count": 74,
     "metadata": {},
     "output_type": "execute_result"
    }
   ],
   "source": [
    "min(pairs_ADF, key=pairs_ADF.get)"
   ]
  },
  {
   "cell_type": "code",
   "execution_count": 75,
   "metadata": {},
   "outputs": [
    {
     "data": {
      "text/plain": [
       "2.0420156742933076e-06"
      ]
     },
     "execution_count": 75,
     "metadata": {},
     "output_type": "execute_result"
    }
   ],
   "source": [
    "pairs_ADF[('PKI', 'S')]"
   ]
  },
  {
   "cell_type": "code",
   "execution_count": 76,
   "metadata": {},
   "outputs": [
    {
     "data": {
      "text/plain": [
       "3.8312600785683832"
      ]
     },
     "execution_count": 76,
     "metadata": {},
     "output_type": "execute_result"
    }
   ],
   "source": [
    "beta[('PKI', 'S')]"
   ]
  },
  {
   "cell_type": "markdown",
   "metadata": {},
   "source": [
    "### Choosing the cointegrated pairs by putting a treshold of the p-value"
   ]
  },
  {
   "cell_type": "code",
   "execution_count": 44,
   "metadata": {},
   "outputs": [],
   "source": [
    "p_value_treshold = 0.005\n",
    "cointegrated_pairs = []\n",
    "for pair in pairs_ADF.keys():\n",
    "    if pairs_ADF[pair] < p_value_treshold:\n",
    "        cointegrated_pairs.append(pair)"
   ]
  },
  {
   "cell_type": "code",
   "execution_count": 45,
   "metadata": {},
   "outputs": [
    {
     "data": {
      "text/plain": [
       "7076"
      ]
     },
     "execution_count": 45,
     "metadata": {},
     "output_type": "execute_result"
    }
   ],
   "source": [
    "len(cointegrated_pairs)"
   ]
  },
  {
   "cell_type": "markdown",
   "metadata": {},
   "source": [
    "!!!! Too much cointegrated pairs"
   ]
  }
 ],
 "metadata": {
  "kernelspec": {
   "display_name": "Python 3",
   "language": "python",
   "name": "python3"
  },
  "language_info": {
   "codemirror_mode": {
    "name": "ipython",
    "version": 3
   },
   "file_extension": ".py",
   "mimetype": "text/x-python",
   "name": "python",
   "nbconvert_exporter": "python",
   "pygments_lexer": "ipython3",
   "version": "3.8.8"
  }
 },
 "nbformat": 4,
 "nbformat_minor": 4
}
