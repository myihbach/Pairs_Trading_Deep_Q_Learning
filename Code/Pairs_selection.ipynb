{
 "cells": [
  {
   "cell_type": "code",
   "execution_count": 4,
   "metadata": {},
   "outputs": [],
   "source": [
    "import pandas as pd\n",
    "import yfinance as yf\n",
    "import yahooquery as yq\n",
    "import datetime\n",
    "import time\n",
    "import requests\n",
    "import io\n",
    "import os\n",
    "from statsmodels.tsa.stattools import adfuller\n",
    "import statsmodels.api as sm\n",
    "import matplotlib.pyplot as plt"
   ]
  },
  {
   "cell_type": "code",
   "execution_count": null,
   "metadata": {},
   "outputs": [],
   "source": []
  },
  {
   "cell_type": "code",
   "execution_count": 39,
   "metadata": {},
   "outputs": [],
   "source": [
    "def read_symbols(filename):\n",
    "    with open(filename) as f:\n",
    "        temp = [line.strip() for line in f.readlines()]\n",
    "    return temp"
   ]
  },
  {
   "cell_type": "code",
   "execution_count": 40,
   "metadata": {},
   "outputs": [],
   "source": [
    "### Contains the symbols of S&P 500 stocks\n",
    "filename = 'data/SP-500.txt'\n",
    "### To download data for the stocks for a month (actually just 21 days) (every 5 min) \n",
    "start = datetime.datetime(2021,12,1)\n",
    "end = datetime.datetime(2022,1,1)"
   ]
  },
  {
   "cell_type": "code",
   "execution_count": 41,
   "metadata": {},
   "outputs": [],
   "source": [
    "### Get symbols in a list from the TXT file\n",
    "symbols = read_symbols(filename)"
   ]
  },
  {
   "cell_type": "code",
   "execution_count": 8,
   "metadata": {},
   "outputs": [
    {
     "data": {
      "text/plain": [
       "\"tickers = yq.Ticker(symbols[:10], asynchronous=True,adj_ohlc=True)\\ndf = tickers.history(period='1mo', interval='5m',start='2021-12-01')\""
      ]
     },
     "execution_count": 8,
     "metadata": {},
     "output_type": "execute_result"
    }
   ],
   "source": [
    "\"\"\"tickers = yq.Ticker(symbols[:10], asynchronous=True,adj_ohlc=True)\n",
    "df = tickers.history(period='1mo', interval='5m',start='2021-12-01')\"\"\""
   ]
  },
  {
   "cell_type": "markdown",
   "metadata": {},
   "source": [
    "### Download stocks from YFinance"
   ]
  },
  {
   "cell_type": "code",
   "execution_count": 9,
   "metadata": {},
   "outputs": [
    {
     "data": {
      "text/plain": [
       "\"stock_final = {}\\n# iterate over each symbol\\nfor i in symbols:  \\n    \\n    # print the symbol which is being downloaded\\n    print( str(symbols.index(i)) + str(' : ') + i, sep=',', end=',', flush=True)  \\n    try:\\n        # download the stock price \\n        stock = yf.download(i,interval='5m',start=start, end=end)        \\n        # append the individual stock prices \\n        if len(stock) == 0:\\n            None\\n        else:\\n            ## Add to the dict , where the key is the symbol of the stock \\n            ## And the value is the df of history prices\\n            stock_final[i]= stock\\n    except Exception:\\n        None\""
      ]
     },
     "execution_count": 9,
     "metadata": {},
     "output_type": "execute_result"
    }
   ],
   "source": [
    "\"\"\"stock_final = {}\n",
    "# iterate over each symbol\n",
    "for i in symbols:  \n",
    "    \n",
    "    # print the symbol which is being downloaded\n",
    "    print( str(symbols.index(i)) + str(' : ') + i, sep=',', end=',', flush=True)  \n",
    "    try:\n",
    "        # download the stock price \n",
    "        stock = yf.download(i,interval='5m',start=start, end=end)        \n",
    "        # append the individual stock prices \n",
    "        if len(stock) == 0:\n",
    "            None\n",
    "        else:\n",
    "            ## Add to the dict , where the key is the symbol of the stock \n",
    "            ## And the value is the df of history prices\n",
    "            stock_final[i]= stock\n",
    "    except Exception:\n",
    "        None\"\"\""
   ]
  },
  {
   "cell_type": "markdown",
   "metadata": {},
   "source": [
    "### Save the stocks as CSV files"
   ]
  },
  {
   "cell_type": "code",
   "execution_count": 13,
   "metadata": {},
   "outputs": [
    {
     "data": {
      "text/plain": [
       "\"for key in stock_final.keys():\\n    stock_final[key].to_csv('data/2021-december/'+key+'.csv')\""
      ]
     },
     "execution_count": 13,
     "metadata": {},
     "output_type": "execute_result"
    }
   ],
   "source": [
    "## save the dataframes\n",
    "\"\"\"for key in stock_final.keys():\n",
    "    stock_final[key].to_csv('data/2021-december/'+key+'.csv')\"\"\""
   ]
  },
  {
   "cell_type": "markdown",
   "metadata": {},
   "source": [
    "### Read stocks from CSV files"
   ]
  },
  {
   "cell_type": "code",
   "execution_count": 5,
   "metadata": {},
   "outputs": [],
   "source": [
    "stock_final = {}\n",
    "path = 'data/2021-december/'\n",
    "files = os.listdir(path)\n",
    "for file in files:\n",
    "    stock_final[file[:-4]] = pd.read_csv(path+file)"
   ]
  },
  {
   "cell_type": "code",
   "execution_count": 6,
   "metadata": {},
   "outputs": [
    {
     "data": {
      "text/plain": [
       "340"
      ]
     },
     "execution_count": 6,
     "metadata": {},
     "output_type": "execute_result"
    }
   ],
   "source": [
    "len(stock_final)"
   ]
  },
  {
   "cell_type": "markdown",
   "metadata": {},
   "source": [
    "## Find the cointegrated pairs\n",
    "* Stock X and Stock Y are cointegrate means $ Z_t  = X_t - \\beta Y_t $ Where $ Z_t$ Should be stationary.\n",
    "* And Since we don't know $ \\beta $, we should estimate it first ( using Linear regression for instance)\n",
    "* then Test for the stationarity of $Z_t$ using ADF test "
   ]
  },
  {
   "cell_type": "markdown",
   "metadata": {},
   "source": [
    "#### Get the $\\beta$ for every pairs"
   ]
  },
  {
   "cell_type": "code",
   "execution_count": 7,
   "metadata": {},
   "outputs": [],
   "source": [
    "symbols = list(stock_final.keys())"
   ]
  },
  {
   "cell_type": "code",
   "execution_count": 8,
   "metadata": {},
   "outputs": [
    {
     "data": {
      "text/plain": [
       "[<matplotlib.lines.Line2D at 0x7fb0daa2d610>]"
      ]
     },
     "execution_count": 8,
     "metadata": {},
     "output_type": "execute_result"
    },
    {
     "data": {
      "image/png": "[encoded data removed]",
      "text/plain": [
       "<Figure size 432x288 with 1 Axes>"
      ]
     },
     "metadata": {
      "needs_background": "light"
     },
     "output_type": "display_data"
    }
   ],
   "source": [
    "plt.plot(stock_final['BBBY'].Close.tolist())"
   ]
  },
  {
   "cell_type": "code",
   "execution_count": 9,
   "metadata": {},
   "outputs": [
    {
     "name": "stdout",
     "output_type": "stream",
     "text": [
      "53\n",
      "CSCO   (1716,)\n",
      "TROW   (1716,)\n",
      "ISRG   (1716,)\n",
      "PRGO   (1716,)\n",
      "DVN   (1716,)\n",
      "NU   (1206,)\n",
      "MRO   (1716,)\n",
      "BA   (1716,)\n",
      "GILD   (1716,)\n",
      "SLM   (1716,)\n",
      "THC   (1711,)\n",
      "TER   (1716,)\n",
      "MDT   (1716,)\n",
      "V   (1716,)\n",
      "A   (1064,)\n",
      "MO   (1716,)\n",
      "MCHP   (1716,)\n",
      "EIX   (1716,)\n",
      "BBY   (1716,)\n",
      "DTE   (1714,)\n",
      "C   (1716,)\n",
      "T   (1716,)\n",
      "CF   (1716,)\n",
      "XL   (1716,)\n",
      "TDC   (1712,)\n",
      "WU   (1716,)\n",
      "APH   (1716,)\n",
      "SYY   (1716,)\n",
      "MSI   (1713,)\n",
      "FCX   (1716,)\n",
      "ADM   (1716,)\n",
      "LH   (1716,)\n",
      "BTU   (1716,)\n",
      "PKI   (1716,)\n",
      "BAC   (1716,)\n",
      "LNC   (1716,)\n",
      "PSX   (1716,)\n",
      "PPG   (1715,)\n",
      "IRM   (1716,)\n",
      "NOV   (1716,)\n",
      "HAL   (1716,)\n",
      "STZ   (1716,)\n",
      "FLS   (1715,)\n",
      "ADI   (1716,)\n",
      "F   (1716,)\n",
      "HOG   (1716,)\n",
      "ADBE   (1716,)\n",
      "SYK   (1716,)\n",
      "CB   (1716,)\n",
      "TSN   (1717,)\n",
      "FLR   (1716,)\n",
      "PEP   (1716,)\n",
      "PEG   (1716,)\n",
      "LLY   (1716,)\n",
      "COST   (1716,)\n",
      "LOW   (1716,)\n",
      "MDLZ   (1716,)\n",
      "FMC   (1716,)\n",
      "XEL   (1716,)\n",
      "PDCO   (1716,)\n",
      "CERN   (1709,)\n",
      "MET   (1716,)\n",
      "CHK   (1715,)\n",
      "XRAY   (1716,)\n",
      "FAST   (1716,)\n",
      "TJX   (1716,)\n",
      "MPC   (1716,)\n",
      "D   (1716,)\n",
      "MRK   (1716,)\n",
      "S   (1716,)\n",
      "STX   (1716,)\n",
      "NOC   (1715,)\n",
      "IPG   (1717,)\n",
      "UNP   (1716,)\n",
      "ORCL   (1716,)\n",
      "ECL   (1714,)\n",
      "EBAY   (1717,)\n",
      "GME   (1716,)\n",
      "SBUX   (1716,)\n",
      "IR   (1716,)\n",
      "AMT   (1716,)\n",
      "INTU   (1716,)\n",
      "CMA   (1716,)\n",
      "PG   (1716,)\n",
      "CAT   (1716,)\n",
      "MCD   (1717,)\n",
      "MNST   (1716,)\n",
      "AMZN   (1716,)\n",
      "INTC   (1716,)\n",
      "LSI   (1714,)\n",
      "GLW   (1716,)\n",
      "BDX   (1716,)\n",
      "KMI   (1716,)\n",
      "PWR   (1716,)\n",
      "EXPD   (1716,)\n",
      "TXN   (1716,)\n",
      "SJM   (1715,)\n",
      "TMO   (1716,)\n",
      "OXY   (1716,)\n",
      "RL   (1713,)\n",
      "CLF   (1716,)\n",
      "CCI   (1716,)\n",
      "MMM   (1716,)\n",
      "MOS   (1716,)\n",
      "HSY   (1714,)\n",
      "JNPR   (1717,)\n",
      "CNX   (1716,)\n",
      "DHI   (1716,)\n",
      "ED   (1716,)\n",
      "ADSK   (1716,)\n",
      "URBN   (1716,)\n",
      "IP   (1716,)\n",
      "EXPE   (1716,)\n",
      "KO   (1717,)\n",
      "PCAR   (1716,)\n",
      "WDC   (1716,)\n",
      "NEE   (1716,)\n",
      "UPS   (1716,)\n",
      "LEG   (1716,)\n",
      "EMR   (1716,)\n",
      "MSFT   (1716,)\n",
      "WEC   (1716,)\n",
      "HP   (1716,)\n",
      "DD   (1716,)\n",
      "ACN   (1716,)\n",
      "VRSN   (1704,)\n",
      "EW   (1716,)\n",
      "SHW   (1713,)\n",
      "HPQ   (1716,)\n",
      "AMAT   (1716,)\n",
      "CCL   (1716,)\n",
      "EA   (1716,)\n",
      "DE   (1716,)\n",
      "FHN   (1716,)\n",
      "SPG   (1716,)\n",
      "AMD   (1716,)\n",
      "GCI   (1715,)\n",
      "KLAC   (1716,)\n",
      "NDAQ   (1713,)\n",
      "WHR   (1703,)\n",
      "PNC   (1716,)\n",
      "KMX   (1716,)\n",
      "BIIB   (1716,)\n",
      "NVDA   (1716,)\n",
      "CHRW   (1716,)\n",
      "BBBY   (1716,)\n",
      "EXC   (1716,)\n",
      "HES   (1716,)\n",
      "HD   (1716,)\n",
      "VLO   (1716,)\n",
      "AON   (1716,)\n",
      "FDX   (1716,)\n",
      "DG   (1716,)\n",
      "HIG   (1717,)\n",
      "CMS   (1716,)\n",
      "CAG   (1716,)\n",
      "SCHW   (1716,)\n",
      "AXP   (1716,)\n",
      "DFS   (1716,)\n",
      "HRL   (1716,)\n",
      "SO   (1716,)\n",
      "XOM   (1716,)\n",
      "AMP   (1710,)\n",
      "CVX   (1716,)\n",
      "CMCSA   (1716,)\n",
      "PCG   (1716,)\n",
      "PNW   (1716,)\n",
      "ICE   (1716,)\n",
      "CTXS   (1715,)\n",
      "TRIP   (1716,)\n",
      "BEN   (1716,)\n",
      "EMN   (1714,)\n",
      "NRG   (1716,)\n",
      "NSC   (1715,)\n",
      "GNW   (1716,)\n",
      "NKE   (1716,)\n",
      "FIS   (1716,)\n",
      "ANF   (1716,)\n",
      "VTR   (1716,)\n",
      "MAS   (1716,)\n",
      "RF   (1716,)\n",
      "TAP   (1716,)\n",
      "MAR   (1716,)\n",
      "XYL   (1716,)\n",
      "CMI   (1716,)\n",
      "ATI   (1716,)\n",
      "KR   (1716,)\n",
      "PLD   (1716,)\n",
      "IBM   (1716,)\n",
      "USB   (1716,)\n",
      "BSX   (1716,)\n",
      "ITW   (1714,)\n",
      "EOG   (1716,)\n",
      "KMB   (1716,)\n",
      "NEM   (1716,)\n",
      "WFC   (1716,)\n",
      "EL   (1716,)\n",
      "GS   (1716,)\n",
      "GD   (1716,)\n",
      "CNP   (1716,)\n",
      "PM   (1716,)\n",
      "CLX   (1716,)\n",
      "CAH   (1716,)\n",
      "HRB   (1716,)\n",
      "DELL   (1716,)\n",
      "DGX   (1716,)\n",
      "DIS   (1716,)\n",
      "GE   (1716,)\n",
      "ALL   (1716,)\n",
      "ETN   (1716,)\n",
      "NFLX   (1716,)\n",
      "LEN   (1716,)\n",
      "FITB   (1716,)\n",
      "CVS   (1716,)\n",
      "FE   (1716,)\n",
      "ABC   (1716,)\n",
      "JPM   (1716,)\n",
      "ABT   (1716,)\n",
      "OMC   (1716,)\n",
      "COF   (1716,)\n",
      "PH   (1712,)\n",
      "HST   (1716,)\n",
      "COP   (1716,)\n",
      "DHR   (1716,)\n",
      "MAT   (1716,)\n",
      "SE   (1716,)\n",
      "MCK   (1717,)\n",
      "TXT   (1716,)\n",
      "MTB   (1716,)\n",
      "PBI   (1716,)\n",
      "DISCA   (1716,)\n",
      "AKAM   (1716,)\n",
      "BIG   (1715,)\n",
      "PAYX   (1716,)\n",
      "DRI   (1716,)\n",
      "XLNX   (1716,)\n",
      "MMC   (1716,)\n",
      "GT   (1716,)\n",
      "FFIV   (1681,)\n",
      "MUR   (1716,)\n",
      "VNO   (1716,)\n",
      "SRE   (1715,)\n",
      "IVZ   (1716,)\n",
      "PXD   (1716,)\n",
      "GOOG   (1716,)\n",
      "YUM   (1716,)\n",
      "EQT   (1716,)\n",
      "IGT   (1716,)\n",
      "KSS   (1716,)\n",
      "PFE   (1716,)\n",
      "AIV   (1710,)\n",
      "SWN   (1716,)\n",
      "DUK   (1716,)\n",
      "CL   (1716,)\n",
      "VFC   (1716,)\n",
      "VZ   (1716,)\n",
      "JCI   (1716,)\n",
      "FSLR   (1715,)\n",
      "AMGN   (1716,)\n",
      "TEL   (1716,)\n",
      "JBL   (1716,)\n",
      "ADP   (1716,)\n",
      "STT   (1716,)\n",
      "RRC   (1716,)\n",
      "GPS   (1716,)\n",
      "BLL   (1717,)\n",
      "QCOM   (1716,)\n",
      "LYB   (1716,)\n",
      "GIS   (1716,)\n",
      "PHM   (1716,)\n",
      "ROST   (1716,)\n",
      "LUV   (1716,)\n",
      "MS   (1716,)\n",
      "CPB   (1716,)\n",
      "OKE   (1716,)\n",
      "BK   (1716,)\n",
      "DNB   (1715,)\n",
      "APA   (1716,)\n",
      "K   (1717,)\n",
      "JWN   (1716,)\n",
      "AFL   (1716,)\n",
      "CSX   (1716,)\n",
      "NI   (1716,)\n",
      "PFG   (1717,)\n",
      "ZION   (1716,)\n",
      "HBAN   (1716,)\n",
      "UNH   (1716,)\n",
      "PRU   (1716,)\n",
      "FISV   (1716,)\n",
      "RRD   (1698,)\n",
      "BEAM   (1711,)\n",
      "WMB   (1716,)\n",
      "EQR   (1716,)\n",
      "PBCT   (1716,)\n",
      "AIG   (1716,)\n",
      "MA   (1716,)\n",
      "OI   (1712,)\n",
      "HON   (1716,)\n",
      "NWSA   (1716,)\n",
      "X   (1716,)\n",
      "AES   (1716,)\n",
      "SLB   (1717,)\n",
      "XRX   (1716,)\n",
      "TGT   (1716,)\n",
      "AAPL   (1716,)\n",
      "MKC   (1716,)\n",
      "WY   (1716,)\n",
      "APD   (1715,)\n",
      "AEE   (1716,)\n",
      "DLTR   (1716,)\n",
      "HAS   (1716,)\n",
      "WMT   (1716,)\n",
      "NTAP   (1716,)\n",
      "KIM   (1716,)\n",
      "BAX   (1716,)\n",
      "LMT   (1717,)\n",
      "KEY   (1716,)\n",
      "UNM   (1716,)\n",
      "BMY   (1716,)\n",
      "PSA   (1715,)\n",
      "WYNN   (1716,)\n",
      "NUE   (1716,)\n",
      "CTSH   (1716,)\n",
      "SWK   (1715,)\n",
      "MU   (1716,)\n",
      "TRV   (1716,)\n",
      "AA   (1716,)\n",
      "AEP   (1716,)\n",
      "CI   (1716,)\n",
      "DOW   (1716,)\n",
      "JNJ   (1716,)\n",
      "WM   (1716,)\n",
      "FTI   (1716,)\n",
      "M   (1716,)\n",
      "CRM   (1716,)\n",
      "PGR   (1716,)\n",
      "BWA   (1717,)\n",
      "LRCX   (1716,)\n",
      "NWL   (1716,)\n",
      "PPL   (1716,)\n"
     ]
    }
   ],
   "source": [
    "s = 0\n",
    "for stock , data in stock_final.items():\n",
    "    if data.Close.shape != (1716,):\n",
    "        s+=1\n",
    "print(s)\n",
    "for stock, data in stock_final.items():\n",
    "    print(stock, \" \", data.Close.shape)"
   ]
  },
  {
   "cell_type": "code",
   "execution_count": 10,
   "metadata": {},
   "outputs": [
    {
     "name": "stdout",
     "output_type": "stream",
     "text": [
      "16\n"
     ]
    }
   ],
   "source": [
    "to_drop_nan = []\n",
    "for stock , data in stock_final.items():\n",
    "    if data.Close.isnull().sum() != 0:\n",
    "        to_drop_nan.append(stock)\n",
    "print(len(to_drop_nan))"
   ]
  },
  {
   "cell_type": "code",
   "execution_count": 11,
   "metadata": {},
   "outputs": [],
   "source": [
    "for stock in to_drop_nan:\n",
    "    stock_final[stock] = stock_final[stock][1:].reset_index()"
   ]
  },
  {
   "cell_type": "code",
   "execution_count": 12,
   "metadata": {},
   "outputs": [
    {
     "name": "stdout",
     "output_type": "stream",
     "text": [
      "300\n"
     ]
    }
   ],
   "source": [
    "final = []\n",
    "for stock , data in stock_final.items():\n",
    "    if data.Close.shape == (1716,):\n",
    "        final.append(stock)\n",
    "print(len(final))"
   ]
  },
  {
   "cell_type": "code",
   "execution_count": 13,
   "metadata": {},
   "outputs": [],
   "source": [
    "### This step takes few mins\n",
    "nbr_stocks = len(final)\n",
    "beta = {}\n",
    "for i in range(nbr_stocks):\n",
    "    for j in range(i+1,nbr_stocks):\n",
    "            model = sm.OLS(stock_final[final[i]].Close,stock_final[final[j]].Close)\n",
    "            res = model.fit()\n",
    "            beta[(final[i],final[j])] = res.params[0]"
   ]
  },
  {
   "cell_type": "code",
   "execution_count": 14,
   "metadata": {},
   "outputs": [
    {
     "data": {
      "text/plain": [
       "44850"
      ]
     },
     "execution_count": 14,
     "metadata": {},
     "output_type": "execute_result"
    }
   ],
   "source": [
    "len(beta)"
   ]
  },
  {
   "cell_type": "markdown",
   "metadata": {},
   "source": [
    "### The most cointegrated pair"
   ]
  },
  {
   "cell_type": "code",
   "execution_count": 15,
   "metadata": {},
   "outputs": [
    {
     "data": {
      "text/plain": [
       "('XL', 'AMZN')"
      ]
     },
     "execution_count": 15,
     "metadata": {},
     "output_type": "execute_result"
    }
   ],
   "source": [
    "min(beta, key=beta.get)"
   ]
  },
  {
   "cell_type": "markdown",
   "metadata": {},
   "source": [
    "#### Calculate the spread using the following formula $ U_t = X_t - \\beta Y_t$"
   ]
  },
  {
   "cell_type": "code",
   "execution_count": 16,
   "metadata": {},
   "outputs": [],
   "source": [
    "spreads = {}\n",
    "for pair , b in beta.items():\n",
    "    spreads[pair] = stock_final[pair[0]].Close - b * stock_final[pair[1]].Close"
   ]
  },
  {
   "cell_type": "markdown",
   "metadata": {},
   "source": [
    "#### ADF test for the stationarity of the spread"
   ]
  },
  {
   "cell_type": "code",
   "execution_count": 17,
   "metadata": {},
   "outputs": [],
   "source": [
    "def get_adf_p_value(spread):\n",
    "    \"\"\"Spread is the difference betweek 2 stocks with a constant Beta\"\"\"\n",
    "    return adfuller(spread)[1]"
   ]
  },
  {
   "cell_type": "code",
   "execution_count": 18,
   "metadata": {},
   "outputs": [],
   "source": [
    "pairs_ADF = {}\n",
    "for pair, spread in spreads.items():\n",
    "    pairs_ADF[pair] = get_adf_p_value(spread)"
   ]
  },
  {
   "cell_type": "markdown",
   "metadata": {},
   "source": [
    "### Choosing the cointegrated pairs by putting a treshold of the p-value"
   ]
  },
  {
   "cell_type": "code",
   "execution_count": 19,
   "metadata": {},
   "outputs": [],
   "source": [
    "p_value_treshold = 0.001\n",
    "cointegrated_pairs = []\n",
    "for pair in pairs_ADF.keys():\n",
    "    if pairs_ADF[pair] < p_value_treshold:\n",
    "        cointegrated_pairs.append(pair)"
   ]
  },
  {
   "cell_type": "code",
   "execution_count": 20,
   "metadata": {},
   "outputs": [
    {
     "name": "stdout",
     "output_type": "stream",
     "text": [
      "285\n",
      "('CSCO', 'S')\n"
     ]
    }
   ],
   "source": [
    "print(len(cointegrated_pairs))\n",
    "print(cointegrated_pairs[0])"
   ]
  },
  {
   "cell_type": "markdown",
   "metadata": {},
   "source": [
    "!!!! Too much cointegrated pairs"
   ]
  },
  {
   "cell_type": "code",
   "execution_count": 43,
   "metadata": {},
   "outputs": [
    {
     "name": "stdout",
     "output_type": "stream",
     "text": [
      "0.9652687759930171\n"
     ]
    }
   ],
   "source": [
    "print(beta[cointegrated_pairs[0]])"
   ]
  },
  {
   "cell_type": "code",
   "execution_count": null,
   "metadata": {},
   "outputs": [],
   "source": []
  }
 ],
 "metadata": {
  "kernelspec": {
   "display_name": "Python 3 (ipykernel)",
   "language": "python",
   "name": "python3"
  },
  "language_info": {
   "codemirror_mode": {
    "name": "ipython",
    "version": 3
   },
   "file_extension": ".py",
   "mimetype": "text/x-python",
   "name": "python",
   "nbconvert_exporter": "python",
   "pygments_lexer": "ipython3",
   "version": "3.8.3"
  }
 },
 "nbformat": 4,
 "nbformat_minor": 4
}
