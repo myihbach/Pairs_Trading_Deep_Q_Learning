{
 "cells": [
  {
   "cell_type": "code",
   "execution_count": 9,
   "metadata": {},
   "outputs": [
    {
     "name": "stdout",
     "output_type": "stream",
     "text": [
      "[*********************100%***********************]  1 of 1 completed\n",
      "[*********************100%***********************]  1 of 1 completed\n",
      "[*********************100%***********************]  1 of 1 completed\n"
     ]
    }
   ],
   "source": [
    "import pandas as pd\n",
    "import yfinance as yf\n",
    "import datetime\n",
    "import time\n",
    "import requests\n",
    "import io\n",
    "\n",
    "### To download data for the stocks\n",
    "Symbols = [\"AAPL\",\"GOOGL\",\"FB\"]\n",
    "start = datetime.datetime(2020,2,1)\n",
    "end = datetime.datetime(2020,10,11)\n",
    "\n",
    "stock_final = pd.DataFrame()\n",
    "# iterate over each symbol\n",
    "for i in Symbols:  \n",
    "    \n",
    "    # print the symbol which is being downloaded\n",
    "    print( str(Symbols.index(i)) + str(' : ') + i, sep=',', end=',', flush=True)  \n",
    "    \n",
    "    try:\n",
    "        # download the stock price \n",
    "        stock = []\n",
    "        stock = yf.download(i,start=start, end=end, progress=True)\n",
    "        \n",
    "        # append the individual stock prices \n",
    "        if len(stock) == 0:\n",
    "            None\n",
    "        else:\n",
    "            stock['Name']=i\n",
    "            stock_final = stock_final.append(stock,sort=False)\n",
    "    except Exception:\n",
    "        None\n",
    "        "
   ]
  },
  {
   "cell_type": "code",
   "execution_count": 56,
   "metadata": {},
   "outputs": [
    {
     "data": {
      "text/html": [
       "<div>\n",
       "<style scoped>\n",
       "    .dataframe tbody tr th:only-of-type {\n",
       "        vertical-align: middle;\n",
       "    }\n",
       "\n",
       "    .dataframe tbody tr th {\n",
       "        vertical-align: top;\n",
       "    }\n",
       "\n",
       "    .dataframe thead th {\n",
       "        text-align: right;\n",
       "    }\n",
       "</style>\n",
       "<table border=\"1\" class=\"dataframe\">\n",
       "  <thead>\n",
       "    <tr style=\"text-align: right;\">\n",
       "      <th></th>\n",
       "      <th>Open</th>\n",
       "      <th>High</th>\n",
       "      <th>Low</th>\n",
       "      <th>Close</th>\n",
       "      <th>Adj Close</th>\n",
       "      <th>Volume</th>\n",
       "      <th>Name</th>\n",
       "    </tr>\n",
       "    <tr>\n",
       "      <th>Date</th>\n",
       "      <th></th>\n",
       "      <th></th>\n",
       "      <th></th>\n",
       "      <th></th>\n",
       "      <th></th>\n",
       "      <th></th>\n",
       "      <th></th>\n",
       "    </tr>\n",
       "  </thead>\n",
       "  <tbody>\n",
       "    <tr>\n",
       "      <th>2020-01-31</th>\n",
       "      <td>80.232498</td>\n",
       "      <td>80.669998</td>\n",
       "      <td>77.072502</td>\n",
       "      <td>77.377502</td>\n",
       "      <td>76.244957</td>\n",
       "      <td>199588400</td>\n",
       "      <td>AAPL</td>\n",
       "    </tr>\n",
       "    <tr>\n",
       "      <th>2020-02-03</th>\n",
       "      <td>76.074997</td>\n",
       "      <td>78.372498</td>\n",
       "      <td>75.555000</td>\n",
       "      <td>77.165001</td>\n",
       "      <td>76.035561</td>\n",
       "      <td>173788400</td>\n",
       "      <td>AAPL</td>\n",
       "    </tr>\n",
       "    <tr>\n",
       "      <th>2020-02-04</th>\n",
       "      <td>78.827499</td>\n",
       "      <td>79.910004</td>\n",
       "      <td>78.407501</td>\n",
       "      <td>79.712502</td>\n",
       "      <td>78.545776</td>\n",
       "      <td>136616400</td>\n",
       "      <td>AAPL</td>\n",
       "    </tr>\n",
       "    <tr>\n",
       "      <th>2020-02-05</th>\n",
       "      <td>80.879997</td>\n",
       "      <td>81.190002</td>\n",
       "      <td>79.737503</td>\n",
       "      <td>80.362503</td>\n",
       "      <td>79.186256</td>\n",
       "      <td>118826800</td>\n",
       "      <td>AAPL</td>\n",
       "    </tr>\n",
       "    <tr>\n",
       "      <th>2020-02-06</th>\n",
       "      <td>80.642502</td>\n",
       "      <td>81.305000</td>\n",
       "      <td>80.065002</td>\n",
       "      <td>81.302498</td>\n",
       "      <td>80.112495</td>\n",
       "      <td>105425600</td>\n",
       "      <td>AAPL</td>\n",
       "    </tr>\n",
       "  </tbody>\n",
       "</table>\n",
       "</div>"
      ],
      "text/plain": [
       "                 Open       High        Low      Close  Adj Close     Volume  \\\n",
       "Date                                                                           \n",
       "2020-01-31  80.232498  80.669998  77.072502  77.377502  76.244957  199588400   \n",
       "2020-02-03  76.074997  78.372498  75.555000  77.165001  76.035561  173788400   \n",
       "2020-02-04  78.827499  79.910004  78.407501  79.712502  78.545776  136616400   \n",
       "2020-02-05  80.879997  81.190002  79.737503  80.362503  79.186256  118826800   \n",
       "2020-02-06  80.642502  81.305000  80.065002  81.302498  80.112495  105425600   \n",
       "\n",
       "            Name  \n",
       "Date              \n",
       "2020-01-31  AAPL  \n",
       "2020-02-03  AAPL  \n",
       "2020-02-04  AAPL  \n",
       "2020-02-05  AAPL  \n",
       "2020-02-06  AAPL  "
      ]
     },
     "execution_count": 56,
     "metadata": {},
     "output_type": "execute_result"
    }
   ],
   "source": [
    "# This contains data for all the stocks\n",
    "stock_final.head()"
   ]
  },
  {
   "cell_type": "code",
   "execution_count": 57,
   "metadata": {},
   "outputs": [
    {
     "data": {
      "text/html": [
       "<div>\n",
       "<style scoped>\n",
       "    .dataframe tbody tr th:only-of-type {\n",
       "        vertical-align: middle;\n",
       "    }\n",
       "\n",
       "    .dataframe tbody tr th {\n",
       "        vertical-align: top;\n",
       "    }\n",
       "\n",
       "    .dataframe thead th {\n",
       "        text-align: right;\n",
       "    }\n",
       "</style>\n",
       "<table border=\"1\" class=\"dataframe\">\n",
       "  <thead>\n",
       "    <tr style=\"text-align: right;\">\n",
       "      <th></th>\n",
       "      <th>Open</th>\n",
       "      <th>High</th>\n",
       "      <th>Low</th>\n",
       "      <th>Close</th>\n",
       "      <th>Adj Close</th>\n",
       "      <th>Volume</th>\n",
       "      <th>Name</th>\n",
       "    </tr>\n",
       "    <tr>\n",
       "      <th>Date</th>\n",
       "      <th></th>\n",
       "      <th></th>\n",
       "      <th></th>\n",
       "      <th></th>\n",
       "      <th></th>\n",
       "      <th></th>\n",
       "      <th></th>\n",
       "    </tr>\n",
       "  </thead>\n",
       "  <tbody>\n",
       "    <tr>\n",
       "      <th>2020-01-31</th>\n",
       "      <td>1467.859985</td>\n",
       "      <td>1469.670044</td>\n",
       "      <td>1427.060059</td>\n",
       "      <td>1432.780029</td>\n",
       "      <td>1432.780029</td>\n",
       "      <td>2191100</td>\n",
       "      <td>GOOGL</td>\n",
       "    </tr>\n",
       "    <tr>\n",
       "      <th>2020-02-03</th>\n",
       "      <td>1461.650024</td>\n",
       "      <td>1486.300049</td>\n",
       "      <td>1456.609985</td>\n",
       "      <td>1482.599976</td>\n",
       "      <td>1482.599976</td>\n",
       "      <td>3581800</td>\n",
       "      <td>GOOGL</td>\n",
       "    </tr>\n",
       "    <tr>\n",
       "      <th>2020-02-04</th>\n",
       "      <td>1454.489990</td>\n",
       "      <td>1467.339966</td>\n",
       "      <td>1422.030029</td>\n",
       "      <td>1445.410034</td>\n",
       "      <td>1445.410034</td>\n",
       "      <td>4794000</td>\n",
       "      <td>GOOGL</td>\n",
       "    </tr>\n",
       "    <tr>\n",
       "      <th>2020-02-05</th>\n",
       "      <td>1463.609985</td>\n",
       "      <td>1464.579956</td>\n",
       "      <td>1429.680054</td>\n",
       "      <td>1446.050049</td>\n",
       "      <td>1446.050049</td>\n",
       "      <td>1818800</td>\n",
       "      <td>GOOGL</td>\n",
       "    </tr>\n",
       "    <tr>\n",
       "      <th>2020-02-06</th>\n",
       "      <td>1451.979980</td>\n",
       "      <td>1481.560059</td>\n",
       "      <td>1450.479980</td>\n",
       "      <td>1475.969971</td>\n",
       "      <td>1475.969971</td>\n",
       "      <td>1891100</td>\n",
       "      <td>GOOGL</td>\n",
       "    </tr>\n",
       "  </tbody>\n",
       "</table>\n",
       "</div>"
      ],
      "text/plain": [
       "                   Open         High          Low        Close    Adj Close  \\\n",
       "Date                                                                          \n",
       "2020-01-31  1467.859985  1469.670044  1427.060059  1432.780029  1432.780029   \n",
       "2020-02-03  1461.650024  1486.300049  1456.609985  1482.599976  1482.599976   \n",
       "2020-02-04  1454.489990  1467.339966  1422.030029  1445.410034  1445.410034   \n",
       "2020-02-05  1463.609985  1464.579956  1429.680054  1446.050049  1446.050049   \n",
       "2020-02-06  1451.979980  1481.560059  1450.479980  1475.969971  1475.969971   \n",
       "\n",
       "             Volume   Name  \n",
       "Date                        \n",
       "2020-01-31  2191100  GOOGL  \n",
       "2020-02-03  3581800  GOOGL  \n",
       "2020-02-04  4794000  GOOGL  \n",
       "2020-02-05  1818800  GOOGL  \n",
       "2020-02-06  1891100  GOOGL  "
      ]
     },
     "execution_count": 57,
     "metadata": {},
     "output_type": "execute_result"
    }
   ],
   "source": [
    "#Seperate the data for each stock/company\n",
    "google = stock_final[stock_final[\"Name\"]==\"GOOGL\"]\n",
    "google.head()"
   ]
  },
  {
   "cell_type": "code",
   "execution_count": 36,
   "metadata": {},
   "outputs": [
    {
     "data": {
      "text/html": [
       "<div>\n",
       "<style scoped>\n",
       "    .dataframe tbody tr th:only-of-type {\n",
       "        vertical-align: middle;\n",
       "    }\n",
       "\n",
       "    .dataframe tbody tr th {\n",
       "        vertical-align: top;\n",
       "    }\n",
       "\n",
       "    .dataframe thead th {\n",
       "        text-align: right;\n",
       "    }\n",
       "</style>\n",
       "<table border=\"1\" class=\"dataframe\">\n",
       "  <thead>\n",
       "    <tr style=\"text-align: right;\">\n",
       "      <th></th>\n",
       "      <th>Open</th>\n",
       "      <th>High</th>\n",
       "      <th>Low</th>\n",
       "      <th>Close</th>\n",
       "      <th>Adj Close</th>\n",
       "      <th>Volume</th>\n",
       "      <th>Name</th>\n",
       "    </tr>\n",
       "    <tr>\n",
       "      <th>Date</th>\n",
       "      <th></th>\n",
       "      <th></th>\n",
       "      <th></th>\n",
       "      <th></th>\n",
       "      <th></th>\n",
       "      <th></th>\n",
       "      <th></th>\n",
       "    </tr>\n",
       "  </thead>\n",
       "  <tbody>\n",
       "    <tr>\n",
       "      <th>2020-01-31</th>\n",
       "      <td>208.429993</td>\n",
       "      <td>208.690002</td>\n",
       "      <td>201.059998</td>\n",
       "      <td>201.910004</td>\n",
       "      <td>201.910004</td>\n",
       "      <td>31359900</td>\n",
       "      <td>FB</td>\n",
       "    </tr>\n",
       "    <tr>\n",
       "      <th>2020-02-03</th>\n",
       "      <td>203.440002</td>\n",
       "      <td>205.139999</td>\n",
       "      <td>202.500000</td>\n",
       "      <td>204.190002</td>\n",
       "      <td>204.190002</td>\n",
       "      <td>15495600</td>\n",
       "      <td>FB</td>\n",
       "    </tr>\n",
       "    <tr>\n",
       "      <th>2020-02-04</th>\n",
       "      <td>206.619995</td>\n",
       "      <td>210.600006</td>\n",
       "      <td>205.199997</td>\n",
       "      <td>209.830002</td>\n",
       "      <td>209.830002</td>\n",
       "      <td>19628900</td>\n",
       "      <td>FB</td>\n",
       "    </tr>\n",
       "    <tr>\n",
       "      <th>2020-02-05</th>\n",
       "      <td>212.509995</td>\n",
       "      <td>212.729996</td>\n",
       "      <td>208.710007</td>\n",
       "      <td>210.110001</td>\n",
       "      <td>210.110001</td>\n",
       "      <td>12538200</td>\n",
       "      <td>FB</td>\n",
       "    </tr>\n",
       "    <tr>\n",
       "      <th>2020-02-06</th>\n",
       "      <td>210.470001</td>\n",
       "      <td>211.190002</td>\n",
       "      <td>209.339996</td>\n",
       "      <td>210.850006</td>\n",
       "      <td>210.850006</td>\n",
       "      <td>10567500</td>\n",
       "      <td>FB</td>\n",
       "    </tr>\n",
       "  </tbody>\n",
       "</table>\n",
       "</div>"
      ],
      "text/plain": [
       "                  Open        High         Low       Close   Adj Close  \\\n",
       "Date                                                                     \n",
       "2020-01-31  208.429993  208.690002  201.059998  201.910004  201.910004   \n",
       "2020-02-03  203.440002  205.139999  202.500000  204.190002  204.190002   \n",
       "2020-02-04  206.619995  210.600006  205.199997  209.830002  209.830002   \n",
       "2020-02-05  212.509995  212.729996  208.710007  210.110001  210.110001   \n",
       "2020-02-06  210.470001  211.190002  209.339996  210.850006  210.850006   \n",
       "\n",
       "              Volume Name  \n",
       "Date                       \n",
       "2020-01-31  31359900   FB  \n",
       "2020-02-03  15495600   FB  \n",
       "2020-02-04  19628900   FB  \n",
       "2020-02-05  12538200   FB  \n",
       "2020-02-06  10567500   FB  "
      ]
     },
     "execution_count": 36,
     "metadata": {},
     "output_type": "execute_result"
    }
   ],
   "source": [
    "facebook = stock_final[stock_final[\"Name\"]==\"FB\"]\n",
    "facebook.head()"
   ]
  },
  {
   "cell_type": "code",
   "execution_count": 37,
   "metadata": {},
   "outputs": [
    {
     "data": {
      "text/html": [
       "<div>\n",
       "<style scoped>\n",
       "    .dataframe tbody tr th:only-of-type {\n",
       "        vertical-align: middle;\n",
       "    }\n",
       "\n",
       "    .dataframe tbody tr th {\n",
       "        vertical-align: top;\n",
       "    }\n",
       "\n",
       "    .dataframe thead th {\n",
       "        text-align: right;\n",
       "    }\n",
       "</style>\n",
       "<table border=\"1\" class=\"dataframe\">\n",
       "  <thead>\n",
       "    <tr style=\"text-align: right;\">\n",
       "      <th></th>\n",
       "      <th>Open</th>\n",
       "      <th>High</th>\n",
       "      <th>Low</th>\n",
       "      <th>Close</th>\n",
       "      <th>Adj Close</th>\n",
       "      <th>Volume</th>\n",
       "      <th>Name</th>\n",
       "    </tr>\n",
       "    <tr>\n",
       "      <th>Date</th>\n",
       "      <th></th>\n",
       "      <th></th>\n",
       "      <th></th>\n",
       "      <th></th>\n",
       "      <th></th>\n",
       "      <th></th>\n",
       "      <th></th>\n",
       "    </tr>\n",
       "  </thead>\n",
       "  <tbody>\n",
       "    <tr>\n",
       "      <th>2020-01-31</th>\n",
       "      <td>80.232498</td>\n",
       "      <td>80.669998</td>\n",
       "      <td>77.072502</td>\n",
       "      <td>77.377502</td>\n",
       "      <td>76.244957</td>\n",
       "      <td>199588400</td>\n",
       "      <td>AAPL</td>\n",
       "    </tr>\n",
       "    <tr>\n",
       "      <th>2020-02-03</th>\n",
       "      <td>76.074997</td>\n",
       "      <td>78.372498</td>\n",
       "      <td>75.555000</td>\n",
       "      <td>77.165001</td>\n",
       "      <td>76.035561</td>\n",
       "      <td>173788400</td>\n",
       "      <td>AAPL</td>\n",
       "    </tr>\n",
       "    <tr>\n",
       "      <th>2020-02-04</th>\n",
       "      <td>78.827499</td>\n",
       "      <td>79.910004</td>\n",
       "      <td>78.407501</td>\n",
       "      <td>79.712502</td>\n",
       "      <td>78.545776</td>\n",
       "      <td>136616400</td>\n",
       "      <td>AAPL</td>\n",
       "    </tr>\n",
       "    <tr>\n",
       "      <th>2020-02-05</th>\n",
       "      <td>80.879997</td>\n",
       "      <td>81.190002</td>\n",
       "      <td>79.737503</td>\n",
       "      <td>80.362503</td>\n",
       "      <td>79.186256</td>\n",
       "      <td>118826800</td>\n",
       "      <td>AAPL</td>\n",
       "    </tr>\n",
       "    <tr>\n",
       "      <th>2020-02-06</th>\n",
       "      <td>80.642502</td>\n",
       "      <td>81.305000</td>\n",
       "      <td>80.065002</td>\n",
       "      <td>81.302498</td>\n",
       "      <td>80.112495</td>\n",
       "      <td>105425600</td>\n",
       "      <td>AAPL</td>\n",
       "    </tr>\n",
       "  </tbody>\n",
       "</table>\n",
       "</div>"
      ],
      "text/plain": [
       "                 Open       High        Low      Close  Adj Close     Volume  \\\n",
       "Date                                                                           \n",
       "2020-01-31  80.232498  80.669998  77.072502  77.377502  76.244957  199588400   \n",
       "2020-02-03  76.074997  78.372498  75.555000  77.165001  76.035561  173788400   \n",
       "2020-02-04  78.827499  79.910004  78.407501  79.712502  78.545776  136616400   \n",
       "2020-02-05  80.879997  81.190002  79.737503  80.362503  79.186256  118826800   \n",
       "2020-02-06  80.642502  81.305000  80.065002  81.302498  80.112495  105425600   \n",
       "\n",
       "            Name  \n",
       "Date              \n",
       "2020-01-31  AAPL  \n",
       "2020-02-03  AAPL  \n",
       "2020-02-04  AAPL  \n",
       "2020-02-05  AAPL  \n",
       "2020-02-06  AAPL  "
      ]
     },
     "execution_count": 37,
     "metadata": {},
     "output_type": "execute_result"
    }
   ],
   "source": [
    "apple = stock_final[stock_final[\"Name\"]==\"AAPL\"]\n",
    "apple.head()"
   ]
  },
  {
   "cell_type": "markdown",
   "metadata": {},
   "source": [
    "#### Studying the spread between each pair of stocks"
   ]
  },
  {
   "cell_type": "code",
   "execution_count": 58,
   "metadata": {},
   "outputs": [],
   "source": [
    "AF_spread = apple.Close - facebook.Close"
   ]
  },
  {
   "cell_type": "code",
   "execution_count": 59,
   "metadata": {},
   "outputs": [],
   "source": [
    "AG_spread = apple.Close - google.Close"
   ]
  },
  {
   "cell_type": "code",
   "execution_count": 60,
   "metadata": {},
   "outputs": [],
   "source": [
    "GF_spread = google.Close - facebook.Close"
   ]
  },
  {
   "cell_type": "code",
   "execution_count": 61,
   "metadata": {},
   "outputs": [
    {
     "data": {
      "text/plain": [
       "Date\n",
       "2020-01-31   -124.532501\n",
       "2020-02-03   -127.025002\n",
       "2020-02-04   -130.117500\n",
       "2020-02-05   -129.747498\n",
       "2020-02-06   -129.547508\n",
       "Name: Close, dtype: float64"
      ]
     },
     "execution_count": 61,
     "metadata": {},
     "output_type": "execute_result"
    }
   ],
   "source": [
    "AF_spread.head()"
   ]
  },
  {
   "cell_type": "markdown",
   "metadata": {},
   "source": [
    "### Checking for stationarity over spreads"
   ]
  },
  {
   "cell_type": "code",
   "execution_count": 62,
   "metadata": {},
   "outputs": [],
   "source": [
    "import matplotlib.pyplot as plt"
   ]
  },
  {
   "cell_type": "code",
   "execution_count": 65,
   "metadata": {},
   "outputs": [
    {
     "name": "stdout",
     "output_type": "stream",
     "text": [
      "The mean of the spread is : -134.1697312701832\n"
     ]
    },
    {
     "data": {
      "image/png": "[encoded data removed]",
      "text/plain": [
       "<Figure size 432x288 with 1 Axes>"
      ]
     },
     "metadata": {
      "needs_background": "light"
     },
     "output_type": "display_data"
    }
   ],
   "source": [
    "print(\"The mean of the spread is :\",AF_spread.mean())\n",
    "plt.plot(AF_spread)\n",
    "plt.show()"
   ]
  },
  {
   "cell_type": "code",
   "execution_count": 66,
   "metadata": {},
   "outputs": [
    {
     "name": "stdout",
     "output_type": "stream",
     "text": [
      "The mean of the spread is : -1320.6718361160972\n"
     ]
    },
    {
     "data": {
      "image/png": "[encoded data removed]",
      "text/plain": [
       "<Figure size 432x288 with 1 Axes>"
      ]
     },
     "metadata": {
      "needs_background": "light"
     },
     "output_type": "display_data"
    }
   ],
   "source": [
    "print(\"The mean of the spread is :\",AG_spread.mean())\n",
    "AG_spread.plot()\n",
    "plt.show()"
   ]
  },
  {
   "cell_type": "code",
   "execution_count": 69,
   "metadata": {},
   "outputs": [
    {
     "name": "stdout",
     "output_type": "stream",
     "text": [
      "The mean of the spread is : 1186.502104845914\n"
     ]
    },
    {
     "data": {
      "image/png": "[encoded data removed]",
      "text/plain": [
       "<Figure size 432x288 with 1 Axes>"
      ]
     },
     "metadata": {
      "needs_background": "light"
     },
     "output_type": "display_data"
    }
   ],
   "source": [
    "print(\"The mean of the spread is :\",GF_spread.mean())\n",
    "GF_spread.plot()\n",
    "plt.show()"
   ]
  },
  {
   "cell_type": "markdown",
   "metadata": {},
   "source": [
    "#### ADFULLER TEST"
   ]
  },
  {
   "cell_type": "code",
   "execution_count": 70,
   "metadata": {},
   "outputs": [],
   "source": [
    "\n",
    "from statsmodels.tsa.stattools import adfuller\n",
    "result = adfuller(GF_spread)"
   ]
  },
  {
   "cell_type": "code",
   "execution_count": 71,
   "metadata": {},
   "outputs": [
    {
     "name": "stdout",
     "output_type": "stream",
     "text": [
      "ADF Statistic: -2.188166\n",
      "p-value: 0.210568\n",
      "Critical Values:\n",
      "\t1%: -3.470\n",
      "\t5%: -2.879\n",
      "\t10%: -2.576\n"
     ]
    }
   ],
   "source": [
    "print('ADF Statistic: %f' % result[0])\n",
    "print('p-value: %f' % result[1])\n",
    "print('Critical Values:')\n",
    "for key, value in result[4].items():\n",
    "    print('\\t%s: %.3f' % (key, value))"
   ]
  },
  {
   "cell_type": "code",
   "execution_count": null,
   "metadata": {},
   "outputs": [],
   "source": []
  }
 ],
 "metadata": {
  "kernelspec": {
   "display_name": "Python 3 (ipykernel)",
   "language": "python",
   "name": "python3"
  },
  "language_info": {
   "codemirror_mode": {
    "name": "ipython",
    "version": 3
   },
   "file_extension": ".py",
   "mimetype": "text/x-python",
   "name": "python",
   "nbconvert_exporter": "python",
   "pygments_lexer": "ipython3",
   "version": "3.8.3"
  }
 },
 "nbformat": 4,
 "nbformat_minor": 4
}
