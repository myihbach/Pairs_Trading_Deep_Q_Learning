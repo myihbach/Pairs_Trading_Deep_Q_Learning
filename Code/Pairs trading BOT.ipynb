{
 "cells": [
  {
   "cell_type": "code",
   "execution_count": 21,
   "metadata": {},
   "outputs": [
    {
     "name": "stdout",
     "output_type": "stream",
     "text": [
      "[*********************100%***********************]  1 of 1 completed\n",
      "[*********************100%***********************]  1 of 1 completed\n",
      "[*********************100%***********************]  1 of 1 completed\n"
     ]
    }
   ],
   "source": [
    "import pandas as pd\n",
    "import yfinance as yf\n",
    "import datetime\n",
    "import time\n",
    "import requests\n",
    "import io\n",
    "\n",
    "### To download data for the stocks\n",
    "Symbols = [\"AAPL\",\"GOOGL\",\"FB\"]\n",
    "start = datetime.datetime(2020,2,1)\n",
    "end = datetime.datetime(2020,10,11)\n",
    "\n",
    "stock_final = pd.DataFrame()\n",
    "# iterate over each symbol\n",
    "for i in Symbols:  \n",
    "    \n",
    "    # print the symbol which is being downloaded\n",
    "    print( str(Symbols.index(i)) + str(' : ') + i, sep=',', end=',', flush=True)  \n",
    "    \n",
    "    try:\n",
    "        # download the stock price \n",
    "        stock = []\n",
    "        stock = yf.download(i,start=start, end=end, progress=True)\n",
    "        \n",
    "        # append the individual stock prices \n",
    "        if len(stock) == 0:\n",
    "            None\n",
    "        else:\n",
    "            stock['Name']=i\n",
    "            stock_final = stock_final.append(stock,sort=False)\n",
    "    except Exception:\n",
    "        None\n",
    "        "
   ]
  },
  {
   "cell_type": "code",
   "execution_count": 22,
   "metadata": {},
   "outputs": [
    {
     "data": {
      "text/html": [
       "<div>\n",
       "<style scoped>\n",
       "    .dataframe tbody tr th:only-of-type {\n",
       "        vertical-align: middle;\n",
       "    }\n",
       "\n",
       "    .dataframe tbody tr th {\n",
       "        vertical-align: top;\n",
       "    }\n",
       "\n",
       "    .dataframe thead th {\n",
       "        text-align: right;\n",
       "    }\n",
       "</style>\n",
       "<table border=\"1\" class=\"dataframe\">\n",
       "  <thead>\n",
       "    <tr style=\"text-align: right;\">\n",
       "      <th></th>\n",
       "      <th>Open</th>\n",
       "      <th>High</th>\n",
       "      <th>Low</th>\n",
       "      <th>Close</th>\n",
       "      <th>Adj Close</th>\n",
       "      <th>Volume</th>\n",
       "      <th>Name</th>\n",
       "    </tr>\n",
       "    <tr>\n",
       "      <th>Date</th>\n",
       "      <th></th>\n",
       "      <th></th>\n",
       "      <th></th>\n",
       "      <th></th>\n",
       "      <th></th>\n",
       "      <th></th>\n",
       "      <th></th>\n",
       "    </tr>\n",
       "  </thead>\n",
       "  <tbody>\n",
       "    <tr>\n",
       "      <th>2020-01-31</th>\n",
       "      <td>80.232498</td>\n",
       "      <td>80.669998</td>\n",
       "      <td>77.072502</td>\n",
       "      <td>77.377502</td>\n",
       "      <td>76.244949</td>\n",
       "      <td>199588400</td>\n",
       "      <td>AAPL</td>\n",
       "    </tr>\n",
       "    <tr>\n",
       "      <th>2020-02-03</th>\n",
       "      <td>76.074997</td>\n",
       "      <td>78.372498</td>\n",
       "      <td>75.555000</td>\n",
       "      <td>77.165001</td>\n",
       "      <td>76.035545</td>\n",
       "      <td>173788400</td>\n",
       "      <td>AAPL</td>\n",
       "    </tr>\n",
       "    <tr>\n",
       "      <th>2020-02-04</th>\n",
       "      <td>78.827499</td>\n",
       "      <td>79.910004</td>\n",
       "      <td>78.407501</td>\n",
       "      <td>79.712502</td>\n",
       "      <td>78.545776</td>\n",
       "      <td>136616400</td>\n",
       "      <td>AAPL</td>\n",
       "    </tr>\n",
       "    <tr>\n",
       "      <th>2020-02-05</th>\n",
       "      <td>80.879997</td>\n",
       "      <td>81.190002</td>\n",
       "      <td>79.737503</td>\n",
       "      <td>80.362503</td>\n",
       "      <td>79.186256</td>\n",
       "      <td>118826800</td>\n",
       "      <td>AAPL</td>\n",
       "    </tr>\n",
       "    <tr>\n",
       "      <th>2020-02-06</th>\n",
       "      <td>80.642502</td>\n",
       "      <td>81.305000</td>\n",
       "      <td>80.065002</td>\n",
       "      <td>81.302498</td>\n",
       "      <td>80.112503</td>\n",
       "      <td>105425600</td>\n",
       "      <td>AAPL</td>\n",
       "    </tr>\n",
       "  </tbody>\n",
       "</table>\n",
       "</div>"
      ],
      "text/plain": [
       "                 Open       High        Low      Close  Adj Close     Volume  \\\n",
       "Date                                                                           \n",
       "2020-01-31  80.232498  80.669998  77.072502  77.377502  76.244949  199588400   \n",
       "2020-02-03  76.074997  78.372498  75.555000  77.165001  76.035545  173788400   \n",
       "2020-02-04  78.827499  79.910004  78.407501  79.712502  78.545776  136616400   \n",
       "2020-02-05  80.879997  81.190002  79.737503  80.362503  79.186256  118826800   \n",
       "2020-02-06  80.642502  81.305000  80.065002  81.302498  80.112503  105425600   \n",
       "\n",
       "            Name  \n",
       "Date              \n",
       "2020-01-31  AAPL  \n",
       "2020-02-03  AAPL  \n",
       "2020-02-04  AAPL  \n",
       "2020-02-05  AAPL  \n",
       "2020-02-06  AAPL  "
      ]
     },
     "execution_count": 22,
     "metadata": {},
     "output_type": "execute_result"
    }
   ],
   "source": [
    "# This contains data for all the stocks\n",
    "stock_final.head()"
   ]
  },
  {
   "cell_type": "code",
   "execution_count": 23,
   "metadata": {},
   "outputs": [
    {
     "data": {
      "text/html": [
       "<div>\n",
       "<style scoped>\n",
       "    .dataframe tbody tr th:only-of-type {\n",
       "        vertical-align: middle;\n",
       "    }\n",
       "\n",
       "    .dataframe tbody tr th {\n",
       "        vertical-align: top;\n",
       "    }\n",
       "\n",
       "    .dataframe thead th {\n",
       "        text-align: right;\n",
       "    }\n",
       "</style>\n",
       "<table border=\"1\" class=\"dataframe\">\n",
       "  <thead>\n",
       "    <tr style=\"text-align: right;\">\n",
       "      <th></th>\n",
       "      <th>Open</th>\n",
       "      <th>High</th>\n",
       "      <th>Low</th>\n",
       "      <th>Close</th>\n",
       "      <th>Adj Close</th>\n",
       "      <th>Volume</th>\n",
       "      <th>Name</th>\n",
       "    </tr>\n",
       "    <tr>\n",
       "      <th>Date</th>\n",
       "      <th></th>\n",
       "      <th></th>\n",
       "      <th></th>\n",
       "      <th></th>\n",
       "      <th></th>\n",
       "      <th></th>\n",
       "      <th></th>\n",
       "    </tr>\n",
       "  </thead>\n",
       "  <tbody>\n",
       "    <tr>\n",
       "      <th>2020-01-31</th>\n",
       "      <td>1467.859985</td>\n",
       "      <td>1469.670044</td>\n",
       "      <td>1427.060059</td>\n",
       "      <td>1432.780029</td>\n",
       "      <td>1432.780029</td>\n",
       "      <td>2191100</td>\n",
       "      <td>GOOGL</td>\n",
       "    </tr>\n",
       "    <tr>\n",
       "      <th>2020-02-03</th>\n",
       "      <td>1461.650024</td>\n",
       "      <td>1486.300049</td>\n",
       "      <td>1456.609985</td>\n",
       "      <td>1482.599976</td>\n",
       "      <td>1482.599976</td>\n",
       "      <td>3581800</td>\n",
       "      <td>GOOGL</td>\n",
       "    </tr>\n",
       "    <tr>\n",
       "      <th>2020-02-04</th>\n",
       "      <td>1454.489990</td>\n",
       "      <td>1467.339966</td>\n",
       "      <td>1422.030029</td>\n",
       "      <td>1445.410034</td>\n",
       "      <td>1445.410034</td>\n",
       "      <td>4794000</td>\n",
       "      <td>GOOGL</td>\n",
       "    </tr>\n",
       "    <tr>\n",
       "      <th>2020-02-05</th>\n",
       "      <td>1463.609985</td>\n",
       "      <td>1464.579956</td>\n",
       "      <td>1429.680054</td>\n",
       "      <td>1446.050049</td>\n",
       "      <td>1446.050049</td>\n",
       "      <td>1818800</td>\n",
       "      <td>GOOGL</td>\n",
       "    </tr>\n",
       "    <tr>\n",
       "      <th>2020-02-06</th>\n",
       "      <td>1451.979980</td>\n",
       "      <td>1481.560059</td>\n",
       "      <td>1450.479980</td>\n",
       "      <td>1475.969971</td>\n",
       "      <td>1475.969971</td>\n",
       "      <td>1891100</td>\n",
       "      <td>GOOGL</td>\n",
       "    </tr>\n",
       "  </tbody>\n",
       "</table>\n",
       "</div>"
      ],
      "text/plain": [
       "                   Open         High          Low        Close    Adj Close  \\\n",
       "Date                                                                          \n",
       "2020-01-31  1467.859985  1469.670044  1427.060059  1432.780029  1432.780029   \n",
       "2020-02-03  1461.650024  1486.300049  1456.609985  1482.599976  1482.599976   \n",
       "2020-02-04  1454.489990  1467.339966  1422.030029  1445.410034  1445.410034   \n",
       "2020-02-05  1463.609985  1464.579956  1429.680054  1446.050049  1446.050049   \n",
       "2020-02-06  1451.979980  1481.560059  1450.479980  1475.969971  1475.969971   \n",
       "\n",
       "             Volume   Name  \n",
       "Date                        \n",
       "2020-01-31  2191100  GOOGL  \n",
       "2020-02-03  3581800  GOOGL  \n",
       "2020-02-04  4794000  GOOGL  \n",
       "2020-02-05  1818800  GOOGL  \n",
       "2020-02-06  1891100  GOOGL  "
      ]
     },
     "execution_count": 23,
     "metadata": {},
     "output_type": "execute_result"
    }
   ],
   "source": [
    "#Seperate the data for each stock/company\n",
    "google = stock_final[stock_final[\"Name\"]==\"GOOGL\"]\n",
    "google.head()"
   ]
  },
  {
   "cell_type": "code",
   "execution_count": 24,
   "metadata": {},
   "outputs": [
    {
     "data": {
      "text/html": [
       "<div>\n",
       "<style scoped>\n",
       "    .dataframe tbody tr th:only-of-type {\n",
       "        vertical-align: middle;\n",
       "    }\n",
       "\n",
       "    .dataframe tbody tr th {\n",
       "        vertical-align: top;\n",
       "    }\n",
       "\n",
       "    .dataframe thead th {\n",
       "        text-align: right;\n",
       "    }\n",
       "</style>\n",
       "<table border=\"1\" class=\"dataframe\">\n",
       "  <thead>\n",
       "    <tr style=\"text-align: right;\">\n",
       "      <th></th>\n",
       "      <th>Open</th>\n",
       "      <th>High</th>\n",
       "      <th>Low</th>\n",
       "      <th>Close</th>\n",
       "      <th>Adj Close</th>\n",
       "      <th>Volume</th>\n",
       "      <th>Name</th>\n",
       "    </tr>\n",
       "    <tr>\n",
       "      <th>Date</th>\n",
       "      <th></th>\n",
       "      <th></th>\n",
       "      <th></th>\n",
       "      <th></th>\n",
       "      <th></th>\n",
       "      <th></th>\n",
       "      <th></th>\n",
       "    </tr>\n",
       "  </thead>\n",
       "  <tbody>\n",
       "    <tr>\n",
       "      <th>2020-01-31</th>\n",
       "      <td>208.429993</td>\n",
       "      <td>208.690002</td>\n",
       "      <td>201.059998</td>\n",
       "      <td>201.910004</td>\n",
       "      <td>201.910004</td>\n",
       "      <td>31359900</td>\n",
       "      <td>FB</td>\n",
       "    </tr>\n",
       "    <tr>\n",
       "      <th>2020-02-03</th>\n",
       "      <td>203.440002</td>\n",
       "      <td>205.139999</td>\n",
       "      <td>202.500000</td>\n",
       "      <td>204.190002</td>\n",
       "      <td>204.190002</td>\n",
       "      <td>15495600</td>\n",
       "      <td>FB</td>\n",
       "    </tr>\n",
       "    <tr>\n",
       "      <th>2020-02-04</th>\n",
       "      <td>206.619995</td>\n",
       "      <td>210.600006</td>\n",
       "      <td>205.199997</td>\n",
       "      <td>209.830002</td>\n",
       "      <td>209.830002</td>\n",
       "      <td>19628900</td>\n",
       "      <td>FB</td>\n",
       "    </tr>\n",
       "    <tr>\n",
       "      <th>2020-02-05</th>\n",
       "      <td>212.509995</td>\n",
       "      <td>212.729996</td>\n",
       "      <td>208.710007</td>\n",
       "      <td>210.110001</td>\n",
       "      <td>210.110001</td>\n",
       "      <td>12538200</td>\n",
       "      <td>FB</td>\n",
       "    </tr>\n",
       "    <tr>\n",
       "      <th>2020-02-06</th>\n",
       "      <td>210.470001</td>\n",
       "      <td>211.190002</td>\n",
       "      <td>209.339996</td>\n",
       "      <td>210.850006</td>\n",
       "      <td>210.850006</td>\n",
       "      <td>10567500</td>\n",
       "      <td>FB</td>\n",
       "    </tr>\n",
       "  </tbody>\n",
       "</table>\n",
       "</div>"
      ],
      "text/plain": [
       "                  Open        High         Low       Close   Adj Close  \\\n",
       "Date                                                                     \n",
       "2020-01-31  208.429993  208.690002  201.059998  201.910004  201.910004   \n",
       "2020-02-03  203.440002  205.139999  202.500000  204.190002  204.190002   \n",
       "2020-02-04  206.619995  210.600006  205.199997  209.830002  209.830002   \n",
       "2020-02-05  212.509995  212.729996  208.710007  210.110001  210.110001   \n",
       "2020-02-06  210.470001  211.190002  209.339996  210.850006  210.850006   \n",
       "\n",
       "              Volume Name  \n",
       "Date                       \n",
       "2020-01-31  31359900   FB  \n",
       "2020-02-03  15495600   FB  \n",
       "2020-02-04  19628900   FB  \n",
       "2020-02-05  12538200   FB  \n",
       "2020-02-06  10567500   FB  "
      ]
     },
     "execution_count": 24,
     "metadata": {},
     "output_type": "execute_result"
    }
   ],
   "source": [
    "facebook = stock_final[stock_final[\"Name\"]==\"FB\"]\n",
    "facebook.head()"
   ]
  },
  {
   "cell_type": "code",
   "execution_count": 25,
   "metadata": {},
   "outputs": [
    {
     "data": {
      "text/html": [
       "<div>\n",
       "<style scoped>\n",
       "    .dataframe tbody tr th:only-of-type {\n",
       "        vertical-align: middle;\n",
       "    }\n",
       "\n",
       "    .dataframe tbody tr th {\n",
       "        vertical-align: top;\n",
       "    }\n",
       "\n",
       "    .dataframe thead th {\n",
       "        text-align: right;\n",
       "    }\n",
       "</style>\n",
       "<table border=\"1\" class=\"dataframe\">\n",
       "  <thead>\n",
       "    <tr style=\"text-align: right;\">\n",
       "      <th></th>\n",
       "      <th>Open</th>\n",
       "      <th>High</th>\n",
       "      <th>Low</th>\n",
       "      <th>Close</th>\n",
       "      <th>Adj Close</th>\n",
       "      <th>Volume</th>\n",
       "      <th>Name</th>\n",
       "    </tr>\n",
       "    <tr>\n",
       "      <th>Date</th>\n",
       "      <th></th>\n",
       "      <th></th>\n",
       "      <th></th>\n",
       "      <th></th>\n",
       "      <th></th>\n",
       "      <th></th>\n",
       "      <th></th>\n",
       "    </tr>\n",
       "  </thead>\n",
       "  <tbody>\n",
       "    <tr>\n",
       "      <th>2020-01-31</th>\n",
       "      <td>80.232498</td>\n",
       "      <td>80.669998</td>\n",
       "      <td>77.072502</td>\n",
       "      <td>77.377502</td>\n",
       "      <td>76.244949</td>\n",
       "      <td>199588400</td>\n",
       "      <td>AAPL</td>\n",
       "    </tr>\n",
       "    <tr>\n",
       "      <th>2020-02-03</th>\n",
       "      <td>76.074997</td>\n",
       "      <td>78.372498</td>\n",
       "      <td>75.555000</td>\n",
       "      <td>77.165001</td>\n",
       "      <td>76.035545</td>\n",
       "      <td>173788400</td>\n",
       "      <td>AAPL</td>\n",
       "    </tr>\n",
       "    <tr>\n",
       "      <th>2020-02-04</th>\n",
       "      <td>78.827499</td>\n",
       "      <td>79.910004</td>\n",
       "      <td>78.407501</td>\n",
       "      <td>79.712502</td>\n",
       "      <td>78.545776</td>\n",
       "      <td>136616400</td>\n",
       "      <td>AAPL</td>\n",
       "    </tr>\n",
       "    <tr>\n",
       "      <th>2020-02-05</th>\n",
       "      <td>80.879997</td>\n",
       "      <td>81.190002</td>\n",
       "      <td>79.737503</td>\n",
       "      <td>80.362503</td>\n",
       "      <td>79.186256</td>\n",
       "      <td>118826800</td>\n",
       "      <td>AAPL</td>\n",
       "    </tr>\n",
       "    <tr>\n",
       "      <th>2020-02-06</th>\n",
       "      <td>80.642502</td>\n",
       "      <td>81.305000</td>\n",
       "      <td>80.065002</td>\n",
       "      <td>81.302498</td>\n",
       "      <td>80.112503</td>\n",
       "      <td>105425600</td>\n",
       "      <td>AAPL</td>\n",
       "    </tr>\n",
       "  </tbody>\n",
       "</table>\n",
       "</div>"
      ],
      "text/plain": [
       "                 Open       High        Low      Close  Adj Close     Volume  \\\n",
       "Date                                                                           \n",
       "2020-01-31  80.232498  80.669998  77.072502  77.377502  76.244949  199588400   \n",
       "2020-02-03  76.074997  78.372498  75.555000  77.165001  76.035545  173788400   \n",
       "2020-02-04  78.827499  79.910004  78.407501  79.712502  78.545776  136616400   \n",
       "2020-02-05  80.879997  81.190002  79.737503  80.362503  79.186256  118826800   \n",
       "2020-02-06  80.642502  81.305000  80.065002  81.302498  80.112503  105425600   \n",
       "\n",
       "            Name  \n",
       "Date              \n",
       "2020-01-31  AAPL  \n",
       "2020-02-03  AAPL  \n",
       "2020-02-04  AAPL  \n",
       "2020-02-05  AAPL  \n",
       "2020-02-06  AAPL  "
      ]
     },
     "execution_count": 25,
     "metadata": {},
     "output_type": "execute_result"
    }
   ],
   "source": [
    "apple = stock_final[stock_final[\"Name\"]==\"AAPL\"]\n",
    "apple.head()"
   ]
  },
  {
   "cell_type": "markdown",
   "metadata": {},
   "source": [
    "#### Studying the spread between each pair of stocks"
   ]
  },
  {
   "cell_type": "code",
   "execution_count": 26,
   "metadata": {},
   "outputs": [],
   "source": [
    "AF_spread = apple.Close - facebook.Close"
   ]
  },
  {
   "cell_type": "code",
   "execution_count": 27,
   "metadata": {},
   "outputs": [],
   "source": [
    "AG_spread = apple.Close - google.Close"
   ]
  },
  {
   "cell_type": "code",
   "execution_count": 28,
   "metadata": {},
   "outputs": [],
   "source": [
    "GF_spread = google.Close - facebook.Close"
   ]
  },
  {
   "cell_type": "code",
   "execution_count": 29,
   "metadata": {},
   "outputs": [
    {
     "data": {
      "text/plain": [
       "Date\n",
       "2020-01-31   -124.532501\n",
       "2020-02-03   -127.025002\n",
       "2020-02-04   -130.117500\n",
       "2020-02-05   -129.747498\n",
       "2020-02-06   -129.547508\n",
       "Name: Close, dtype: float64"
      ]
     },
     "execution_count": 29,
     "metadata": {},
     "output_type": "execute_result"
    }
   ],
   "source": [
    "AF_spread.head()"
   ]
  },
  {
   "cell_type": "markdown",
   "metadata": {},
   "source": [
    "### Checking for stationarity over spreads"
   ]
  },
  {
   "cell_type": "code",
   "execution_count": 30,
   "metadata": {},
   "outputs": [],
   "source": [
    "import matplotlib.pyplot as plt"
   ]
  },
  {
   "cell_type": "code",
   "execution_count": 31,
   "metadata": {},
   "outputs": [
    {
     "name": "stdout",
     "output_type": "stream",
     "text": [
      "The mean of the spread is : -134.1697312701832\n"
     ]
    },
    {
     "data": {
      "image/png": "[encoded data removed]",
      "text/plain": [
       "<Figure size 432x288 with 1 Axes>"
      ]
     },
     "metadata": {
      "needs_background": "light"
     },
     "output_type": "display_data"
    }
   ],
   "source": [
    "print(\"The mean of the spread is :\",AF_spread.mean())\n",
    "plt.plot(AF_spread)\n",
    "plt.show()"
   ]
  },
  {
   "cell_type": "code",
   "execution_count": 32,
   "metadata": {},
   "outputs": [
    {
     "name": "stdout",
     "output_type": "stream",
     "text": [
      "The mean of the spread is : -1320.6718361160972\n"
     ]
    },
    {
     "data": {
      "image/png": "[encoded data removed]",
      "text/plain": [
       "<Figure size 432x288 with 1 Axes>"
      ]
     },
     "metadata": {
      "needs_background": "light"
     },
     "output_type": "display_data"
    }
   ],
   "source": [
    "print(\"The mean of the spread is :\",AG_spread.mean())\n",
    "AG_spread.plot()\n",
    "plt.show()"
   ]
  },
  {
   "cell_type": "code",
   "execution_count": 33,
   "metadata": {},
   "outputs": [
    {
     "name": "stdout",
     "output_type": "stream",
     "text": [
      "The mean of the spread is : 1186.502104845914\n"
     ]
    },
    {
     "data": {
      "image/png": "[encoded data removed]",
      "text/plain": [
       "<Figure size 432x288 with 1 Axes>"
      ]
     },
     "metadata": {
      "needs_background": "light"
     },
     "output_type": "display_data"
    }
   ],
   "source": [
    "print(\"The mean of the spread is :\",GF_spread.mean())\n",
    "GF_spread.plot()\n",
    "plt.show()"
   ]
  },
  {
   "cell_type": "markdown",
   "metadata": {},
   "source": [
    "#### ADFULLER TEST"
   ]
  },
  {
   "cell_type": "code",
   "execution_count": 34,
   "metadata": {},
   "outputs": [],
   "source": [
    "\n",
    "from statsmodels.tsa.stattools import adfuller\n",
    "result = adfuller(GF_spread)"
   ]
  },
  {
   "cell_type": "code",
   "execution_count": 35,
   "metadata": {},
   "outputs": [
    {
     "name": "stdout",
     "output_type": "stream",
     "text": [
      "ADF Statistic: -2.188166\n",
      "p-value: 0.210568\n",
      "Critical Values:\n",
      "\t1%: -3.470\n",
      "\t5%: -2.879\n",
      "\t10%: -2.576\n"
     ]
    }
   ],
   "source": [
    "print('ADF Statistic: %f' % result[0])\n",
    "print('p-value: %f' % result[1])\n",
    "print('Critical Values:')\n",
    "for key, value in result[4].items():\n",
    "    print('\\t%s: %.3f' % (key, value))"
   ]
  },
  {
   "cell_type": "markdown",
   "metadata": {},
   "source": [
    "#### The most cointegrated pair based on the data of 2021-12-28 is ('BBBY', 'MCK')"
   ]
  },
  {
   "cell_type": "code",
   "execution_count": 135,
   "metadata": {},
   "outputs": [],
   "source": [
    "import torch.nn as nn\n",
    "import torch.nn.functional as F\n",
    "import torch\n",
    "from collections import deque\n",
    "import random\n",
    "import pandas as pd\n",
    "import numpy as np\n",
    "import torch.optim as optim"
   ]
  },
  {
   "cell_type": "code",
   "execution_count": 136,
   "metadata": {},
   "outputs": [],
   "source": [
    "class DQN(nn.Module):\n",
    "    def __init__(self):\n",
    "        super().__init__()\n",
    "        # Defining network to optimize our Q function\n",
    "        self.input = nn.Linear(30,256)\n",
    "        self.dense1 = nn.Linear(256,60)\n",
    "        self.out = nn.Linear(60, 3)\n",
    "    ## Forward propagation\n",
    "    def forward(self, x):\n",
    "        x = self.input(x)\n",
    "        x = F.relu(x)\n",
    "        x = self.dense1(x)\n",
    "        x = F.relu(x)\n",
    "        x = self.out(x)\n",
    "     \n",
    "        return x\n",
    "    ## Train model\n",
    "    def train(self,X,Y):\n",
    "        criterion = nn.MSELoss()\n",
    "        optimizer = optim.Adam(self.parameters(), lr=0.001)\n",
    "        running_loss = 0.0\n",
    "        for i in range(len(X)):\n",
    "            inputs, labels= torch.FloatTensor(X[i]), torch.FloatTensor(Y[i])\n",
    "            optimizer.zero_grad()\n",
    "            out = self(inputs)\n",
    "            loss = criterion(out, torch.FloatTensor(Y[i]))\n",
    "            loss.backward()          ## This does back propagation\n",
    "            optimizer.step()         ## To optimize loss function \n",
    "            running_loss+=loss.item()  ## the value of the loss function after training\n",
    "        \n",
    "        return running_loss\n",
    "    \n",
    "    "
   ]
  },
  {
   "cell_type": "code",
   "execution_count": 137,
   "metadata": {},
   "outputs": [],
   "source": [
    "class Agent:\n",
    "    def __init__(self, state_size,window_size,trend, skip,batch_size,stock1,stock2):\n",
    "        self.stock1 = stock1\n",
    "        self.stock2 = stock2\n",
    "        self.state_size = state_size\n",
    "        self.window_size = window_size\n",
    "        self.half_window = window_size // 2\n",
    "        self.trend = trend\n",
    "        self.skip = skip\n",
    "        self.action_size = 3 \n",
    "        self.batch_size = batch_size\n",
    "        self.memory = deque(maxlen = 1000)\n",
    "        self.inventory = []\n",
    "        self.gamma = 0.95\n",
    "        self.epsilon = 0.5\n",
    "        self.epsilon_min = 0.01\n",
    "        self.epsilon_decay = 0.999\n",
    "        self.model = DQN()\n",
    "    def act(self,state):\n",
    "        if random.random() <= self.epsilon:\n",
    "            return random.randrange(self.action_size)\n",
    "        return torch.argmax(self.model(torch.FloatTensor(state)))\n",
    "    \n",
    "    def get_state(self,t):\n",
    "        window_size = self.window_size + 1\n",
    "        d = t - window_size + 1\n",
    "        block = self.trend[d : t + 1] if d >= 0 else -d * [self.trend[0]] + self.trend[0 : t + 1]\n",
    "        res = []\n",
    "        for i in range(window_size - 1):\n",
    "            res.append(block[i + 1] - block[i])\n",
    "        return np.array([res])\n",
    "    \n",
    "    def buy(self,initial_money):\n",
    "        starting_money = initial_money\n",
    "        states_sell = []\n",
    "        states_buy = []\n",
    "        inventory = []\n",
    "        state = self.get_state(0)\n",
    "        for t in range(0, len(self.trend) - 1, self.skip):\n",
    "            action = self.act(state)\n",
    "            next_state = self.get_state(t + 1)\n",
    "            \n",
    "            if action == 1 and initial_money >= self.trend[t] and t < (len(self.trend) - self.half_window):\n",
    "                initial_money -= self.trend[t]\n",
    "                states_buy.append(t)\n",
    "                print('day %d: buy 1 sell 2 at difference %f, total balance %f'% (t, self.trend[t], initial_money))\n",
    "                \n",
    "            elif action == 2 and initial_money >= -self.trend[t]:\n",
    "                initial_money += self.trend[t]\n",
    "                states_sell.append(t)\n",
    "                print('day %d: buy 2 sell 1 at difference %f, total balance %f'% (t, self.trend[t], initial_money))\n",
    "                \n",
    "            \n",
    "            state = next_state\n",
    "        invest = ((initial_money - starting_money) / starting_money) * 100\n",
    "        total_gains = initial_money - starting_money\n",
    "        return states_buy, states_sell, total_gains, invest\n",
    "    \n",
    "    def replay(self,batch_size):\n",
    "        mini_batch = []\n",
    "        l = len(self.memory)\n",
    "        for i in range(l-batch_size,l):\n",
    "            mini_batch.append(self.memory[i])\n",
    "        replay_size = len(mini_batch)\n",
    "        X = np.empty((replay_size, self.state_size))\n",
    "        Y = np.empty((replay_size, self.action_size))\n",
    "        states = np.array([a[0][0] for a in mini_batch])\n",
    "        new_states = np.array([a[3][0] for a in mini_batch])\n",
    "        Q = self.model(torch.FloatTensor(states)).tolist()\n",
    "        Q_new = self.model(torch.FloatTensor(new_states)).tolist()\n",
    "\n",
    "        for i in range(len(mini_batch)):\n",
    "            state, action, reward, next_state, done = mini_batch[i]\n",
    "            target = Q[i]\n",
    "            target[action] = reward\n",
    "            \n",
    "            if not done:\n",
    "                target[action] += self.gamma * max(Q_new[i])\n",
    "            X[i] = state\n",
    "            Y[i] = target\n",
    "        cost = self.model.train(X,Y)\n",
    "        if self.epsilon > self.epsilon_min:\n",
    "            self.epsilon *= self.epsilon_decay\n",
    "        return cost\n",
    "    \n",
    "    def train(self, iterations, checkpoint, initial_money,):\n",
    "        for i in range(iterations):\n",
    "            total_profit = 0\n",
    "            inventory1 = [self.stock1[0]]\n",
    "            inventory2 = []\n",
    "            state = self.get_state(0)\n",
    "            starting_money = initial_money - self.stock1[0]\n",
    "            for t in range(0, len(self.trend) - 1, self.skip):\n",
    "                action = self.act(state)\n",
    "                next_state = self.get_state(t + 1)\n",
    "                \n",
    "                if action == 1 and starting_money >= self.trend[t] and len(inventory2)>0 and t < (len(self.trend) - self.half_window):\n",
    "                    bought_price = inventory2.pop(0)\n",
    "                    starting_money -= self.trend[t]\n",
    "                    total_profit = total_profit - self.trend[t] - bought_price \n",
    "                    \n",
    "                elif action == 2 and starting_money >= -self.trend[t] and len(inventory1)>0 and t < (len(self.trend) - self.half_window):\n",
    "                    bought_price = inventory1.pop(0)\n",
    "                    total_profit += self.trend[t] - bought_price\n",
    "                    starting_money += self.trend[t]\n",
    "                    \n",
    "                invest = ((starting_money - initial_money) / initial_money)\n",
    "                self.memory.append((state, action, invest, \n",
    "                                    next_state, starting_money < initial_money))\n",
    "                state = next_state\n",
    "                batch_size = min(self.batch_size, len(self.memory))\n",
    "                cost = self.replay(batch_size)    \n",
    "            if (i+1) % checkpoint == 0:\n",
    "                print('epoch: %d, total rewards: %f.3, cost: %f, total money: %f'%(i + 1, total_profit, cost,\n",
    "                                                                                  starting_money))               \n",
    "                "
   ]
  },
  {
   "cell_type": "code",
   "execution_count": 38,
   "metadata": {},
   "outputs": [
    {
     "data": {
      "text/plain": [
       "0.06282023306626597"
      ]
     },
     "execution_count": 38,
     "metadata": {},
     "output_type": "execute_result"
    }
   ],
   "source": [
    "beta"
   ]
  },
  {
   "cell_type": "code",
   "execution_count": 138,
   "metadata": {},
   "outputs": [],
   "source": [
    "## Action 1: Buy first Sell second\n",
    "## Action 2: Buy second Sell first\n",
    "## Difference is first-second"
   ]
  },
  {
   "cell_type": "code",
   "execution_count": 139,
   "metadata": {},
   "outputs": [],
   "source": [
    "close = AG_spread.values.tolist()\n",
    "initial_money = 10000\n",
    "window_size = 30\n",
    "skip = 1\n",
    "batch_size = 32\n",
    "stock1 = apple.Close.tolist()\n",
    "stock2 = google.Close.tolist()\n",
    "agent = Agent(state_size = window_size, \n",
    "              window_size = window_size, \n",
    "              trend = close, \n",
    "              skip = skip, \n",
    "              batch_size = batch_size,\n",
    "               stock1 = stock1,\n",
    "             stock2 = stock2)"
   ]
  },
  {
   "cell_type": "code",
   "execution_count": 140,
   "metadata": {},
   "outputs": [
    {
     "name": "stdout",
     "output_type": "stream",
     "text": [
      "epoch: 10, total rewards: -1132.222561.3, cost: 0.000014, total money: 8867.777439\n",
      "epoch: 20, total rewards: -1432.780029.3, cost: 0.000116, total money: 8567.219971\n",
      "epoch: 30, total rewards: 0.000000.3, cost: 0.000001, total money: 9922.622498\n",
      "epoch: 40, total rewards: -1194.949944.3, cost: 0.000001, total money: 8805.050056\n",
      "epoch: 50, total rewards: -1468.424957.3, cost: 0.000395, total money: 8531.575043\n",
      "epoch: 60, total rewards: 0.000000.3, cost: 0.000001, total money: 9922.622498\n",
      "epoch: 70, total rewards: -1514.207504.3, cost: 0.000001, total money: 8485.792496\n",
      "epoch: 80, total rewards: -1384.184967.3, cost: 0.000001, total money: 8615.815033\n",
      "epoch: 90, total rewards: -1406.730034.3, cost: 0.000001, total money: 8593.269966\n",
      "epoch: 100, total rewards: 0.000000.3, cost: 0.000001, total money: 9922.622498\n",
      "epoch: 110, total rewards: -1521.342499.3, cost: 0.000007, total money: 8478.657501\n",
      "epoch: 120, total rewards: -1482.812477.3, cost: 0.000001, total money: 8517.187523\n",
      "epoch: 130, total rewards: 0.000000.3, cost: 0.000001, total money: 9922.622498\n",
      "epoch: 140, total rewards: -1411.097549.3, cost: 0.000001, total money: 8588.902451\n",
      "epoch: 150, total rewards: -1432.780029.3, cost: 0.000001, total money: 8567.219971\n",
      "epoch: 160, total rewards: -1432.780029.3, cost: 0.000001, total money: 8567.219971\n",
      "epoch: 170, total rewards: -1432.780029.3, cost: 0.000001, total money: 8567.219971\n",
      "epoch: 180, total rewards: -1432.780029.3, cost: 0.000001, total money: 8567.219971\n",
      "epoch: 190, total rewards: -1432.780029.3, cost: 0.000001, total money: 8567.219971\n",
      "epoch: 200, total rewards: -1432.780029.3, cost: 0.000114, total money: 8567.219971\n"
     ]
    }
   ],
   "source": [
    "agent.train(iterations = 200, checkpoint = 10, initial_money = initial_money)\n",
    "    \n",
    "    "
   ]
  },
  {
   "cell_type": "code",
   "execution_count": 102,
   "metadata": {},
   "outputs": [
    {
     "name": "stdout",
     "output_type": "stream",
     "text": [
      "day 0: buy 1 sell 2 at difference -1355.402527, total balance 11355.402527\n",
      "day 1: buy 1 sell 2 at difference -1405.434975, total balance 12760.837502\n",
      "day 2: buy 1 sell 2 at difference -1365.697533, total balance 14126.535034\n",
      "day 3: buy 1 sell 2 at difference -1365.687546, total balance 15492.222580\n",
      "day 4: buy 1 sell 2 at difference -1394.667473, total balance 16886.890053\n",
      "day 5: buy 1 sell 2 at difference -1399.102486, total balance 18285.992538\n",
      "day 6: buy 1 sell 2 at difference -1428.272537, total balance 19714.265076\n",
      "day 7: buy 1 sell 2 at difference -1430.157562, total balance 21144.422638\n",
      "day 8: buy 1 sell 2 at difference -1436.830002, total balance 22581.252640\n",
      "day 9: buy 1 sell 2 at difference -1432.172516, total balance 24013.425156\n",
      "day 10: buy 1 sell 2 at difference -1437.492477, total balance 25450.917633\n",
      "day 11: buy 1 sell 2 at difference -1439.689941, total balance 26890.607574\n",
      "day 12: buy 1 sell 2 at difference -1443.964996, total balance 28334.572571\n",
      "day 13: buy 1 sell 2 at difference -1436.914993, total balance 29771.487564\n",
      "day 14: buy 1 sell 2 at difference -1405.197464, total balance 31176.685028\n",
      "day 15: buy 1 sell 2 at difference -1345.314987, total balance 32522.000015\n",
      "day 16: buy 1 sell 2 at difference -1314.299950, total balance 33836.299965\n",
      "day 17: buy 1 sell 2 at difference -1317.307472, total balance 35153.607437\n",
      "day 18: buy 1 sell 2 at difference -1246.569954, total balance 36400.177391\n",
      "day 19: buy 1 sell 2 at difference -1270.910004, total balance 37671.087395\n",
      "day 20: buy 1 sell 2 at difference -1311.617447, total balance 38982.704842\n",
      "day 21: buy 1 sell 2 at difference -1265.389969, total balance 40248.094810\n",
      "day 22: buy 1 sell 2 at difference -1305.914978, total balance 41554.009789\n",
      "day 23: buy 1 sell 2 at difference -1241.530006, total balance 42795.539795\n",
      "day 24: buy 1 sell 2 at difference -1223.482491, total balance 44019.022285\n",
      "day 25: buy 1 sell 2 at difference -1149.247536, total balance 45168.269821\n",
      "day 26: buy 1 sell 2 at difference -1203.835045, total balance 46372.104866\n",
      "day 27: buy 1 sell 2 at difference -1142.042526, total balance 47514.147392\n",
      "day 28: buy 1 sell 2 at difference -1049.492550, total balance 48563.639942\n",
      "day 29: buy 1 sell 2 at difference -1144.777519, total balance 49708.417461\n",
      "day 30: buy 1 sell 2 at difference -1012.447498, total balance 50720.864960\n",
      "day 31: buy 1 sell 2 at difference -1054.845058, total balance 51775.710018\n",
      "day 32: buy 1 sell 2 at difference -1029.522442, total balance 52805.232460\n",
      "day 33: buy 1 sell 2 at difference -1050.475044, total balance 53855.707504\n",
      "day 34: buy 1 sell 2 at difference -1010.899960, total balance 54866.607464\n",
      "day 35: buy 1 sell 2 at difference -998.037506, total balance 55864.644970\n",
      "day 36: buy 1 sell 2 at difference -1068.290009, total balance 56932.934978\n",
      "day 37: buy 1 sell 2 at difference -1040.239994, total balance 57973.174973\n",
      "day 38: buy 1 sell 2 at difference -1098.310043, total balance 59071.485016\n",
      "day 39: buy 1 sell 2 at difference -1048.325008, total balance 60119.810024\n",
      "day 40: buy 1 sell 2 at difference -1082.607559, total balance 61202.417583\n",
      "day 41: buy 1 sell 2 at difference -1098.377453, total balance 62300.795036\n",
      "day 42: buy 1 sell 2 at difference -1041.872475, total balance 63342.667511\n",
      "day 43: buy 1 sell 2 at difference -1055.797531, total balance 64398.465042\n",
      "day 44: buy 1 sell 2 at difference -1032.347450, total balance 65430.812492\n",
      "day 45: buy 1 sell 2 at difference -1117.572441, total balance 66548.384933\n",
      "day 46: buy 1 sell 2 at difference -1117.702560, total balance 67666.087494\n",
      "day 47: buy 1 sell 2 at difference -1140.482498, total balance 68806.569992\n",
      "day 48: buy 1 sell 2 at difference -1139.572449, total balance 69946.142441\n",
      "day 49: buy 1 sell 2 at difference -1142.097534, total balance 71088.239975\n",
      "day 50: buy 1 sell 2 at difference -1193.467484, total balance 72281.707458\n",
      "day 51: buy 1 sell 2 at difference -1186.192551, total balance 73467.900009\n",
      "day 52: buy 1 sell 2 at difference -1185.757553, total balance 74653.657562\n",
      "day 53: buy 1 sell 2 at difference -1208.300003, total balance 75861.957565\n",
      "day 54: buy 1 sell 2 at difference -1191.917526, total balance 77053.875092\n",
      "day 55: buy 1 sell 2 at difference -1145.067535, total balance 78198.942627\n",
      "day 56: buy 1 sell 2 at difference -1189.385033, total balance 79388.327660\n",
      "day 58: buy 1 sell 2 at difference -1205.857475, total balance 80594.185135\n",
      "day 59: buy 1 sell 2 at difference -1200.067482, total balance 81794.252617\n",
      "day 60: buy 1 sell 2 at difference -1162.944969, total balance 82957.197586\n",
      "day 61: buy 1 sell 2 at difference -1270.247551, total balance 84227.445137\n",
      "day 62: buy 1 sell 2 at difference -1273.249954, total balance 85500.695091\n",
      "day 63: buy 1 sell 2 at difference -1245.052444, total balance 86745.747536\n",
      "day 64: buy 1 sell 2 at difference -1249.610023, total balance 87995.357559\n",
      "day 65: buy 1 sell 2 at difference -1274.630020, total balance 89269.987579\n",
      "day 66: buy 1 sell 2 at difference -1270.272552, total balance 90540.260132\n",
      "day 67: buy 1 sell 2 at difference -1293.345032, total balance 91833.605164\n",
      "day 68: buy 1 sell 2 at difference -1306.807465, total balance 93140.412628\n",
      "day 69: buy 1 sell 2 at difference -1324.837463, total balance 94465.250092\n",
      "day 70: buy 1 sell 2 at difference -1297.327553, total balance 95762.577644\n",
      "day 71: buy 1 sell 2 at difference -1271.417458, total balance 97033.995102\n",
      "day 72: buy 1 sell 2 at difference -1279.474983, total balance 98313.470085\n",
      "day 73: buy 1 sell 2 at difference -1296.132561, total balance 99609.602646\n",
      "day 74: buy 1 sell 2 at difference -1306.440056, total balance 100916.042702\n",
      "day 75: buy 1 sell 2 at difference -1296.115021, total balance 102212.157722\n",
      "day 76: buy 1 sell 2 at difference -1329.352531, total balance 103541.510254\n",
      "day 77: buy 1 sell 2 at difference -1327.537498, total balance 104869.047752\n",
      "day 78: buy 1 sell 2 at difference -1333.517487, total balance 106202.565239\n",
      "day 79: buy 1 sell 2 at difference -1342.187492, total balance 107544.752731\n",
      "day 80: buy 1 sell 2 at difference -1340.752533, total balance 108885.505264\n",
      "day 81: buy 1 sell 2 at difference -1338.677490, total balance 110224.182755\n",
      "day 82: buy 1 sell 2 at difference -1354.035019, total balance 111578.217773\n",
      "day 83: buy 1 sell 2 at difference -1354.407494, total balance 112932.625267\n",
      "day 84: buy 1 sell 2 at difference -1361.475060, total balance 114294.100327\n",
      "day 85: buy 1 sell 2 at difference -1357.970001, total balance 115652.070328\n",
      "day 86: buy 1 sell 2 at difference -1333.720047, total balance 116985.790375\n",
      "day 87: buy 1 sell 2 at difference -1357.145020, total balance 118342.935394\n",
      "day 88: buy 1 sell 2 at difference -1364.675041, total balance 119707.610435\n",
      "day 89: buy 1 sell 2 at difference -1366.082458, total balance 121073.692894\n",
      "day 90: buy 1 sell 2 at difference -1376.489952, total balance 122450.182846\n",
      "day 91: buy 1 sell 2 at difference -1317.925026, total balance 123768.107872\n",
      "day 92: buy 1 sell 2 at difference -1328.220047, total balance 125096.327919\n",
      "day 93: buy 1 sell 2 at difference -1334.992493, total balance 126431.320412\n",
      "day 94: buy 1 sell 2 at difference -1358.449974, total balance 127789.770386\n",
      "day 95: buy 1 sell 2 at difference -1364.642540, total balance 129154.412926\n",
      "day 96: buy 1 sell 2 at difference -1346.187492, total balance 130500.600418\n",
      "day 97: buy 1 sell 2 at difference -1337.210014, total balance 131837.810432\n",
      "day 98: buy 1 sell 2 at difference -1360.942535, total balance 133198.752968\n",
      "day 99: buy 1 sell 2 at difference -1372.347481, total balance 134571.100449\n",
      "day 100: buy 1 sell 2 at difference -1342.684952, total balance 135913.785400\n",
      "day 101: buy 1 sell 2 at difference -1349.889977, total balance 137263.675377\n",
      "day 102: buy 1 sell 2 at difference -1274.132538, total balance 138537.807915\n",
      "day 103: buy 1 sell 2 at difference -1306.725044, total balance 139844.532959\n",
      "day 104: buy 1 sell 2 at difference -1326.850052, total balance 141171.383011\n",
      "day 105: buy 1 sell 2 at difference -1350.972504, total balance 142522.355515\n",
      "day 106: buy 1 sell 2 at difference -1378.902557, total balance 143901.258072\n",
      "day 107: buy 1 sell 2 at difference -1406.187523, total balance 145307.445595\n",
      "day 108: buy 1 sell 2 at difference -1396.747543, total balance 146704.193138\n",
      "day 109: buy 1 sell 2 at difference -1408.257477, total balance 148112.450615\n",
      "day 110: buy 1 sell 2 at difference -1422.907532, total balance 149535.358147\n",
      "day 111: buy 1 sell 2 at difference -1443.090012, total balance 150978.448158\n",
      "day 112: buy 1 sell 2 at difference -1416.752480, total balance 152395.200638\n",
      "day 113: buy 1 sell 2 at difference -1423.802483, total balance 153819.003120\n",
      "day 114: buy 1 sell 2 at difference -1419.155006, total balance 155238.158127\n",
      "day 115: buy 1 sell 2 at difference -1418.397545, total balance 156656.555672\n",
      "day 116: buy 1 sell 2 at difference -1420.522476, total balance 158077.078148\n",
      "day 117: buy 1 sell 2 at difference -1465.482468, total balance 159542.560616\n",
      "day 118: buy 1 sell 2 at difference -1458.920044, total balance 161001.480659\n",
      "day 119: buy 1 sell 2 at difference -1467.577477, total balance 162469.058136\n",
      "day 120: buy 2 sell 1 at difference -1423.904999, total balance 161045.153137\n",
      "day 121: buy 1 sell 2 at difference -1415.594963, total balance 162460.748100\n",
      "day 122: buy 1 sell 2 at difference -1434.620056, total balance 163895.368156\n",
      "day 123: buy 1 sell 2 at difference -1410.397522, total balance 165305.765678\n",
      "day 124: buy 1 sell 2 at difference -1428.470009, total balance 166734.235687\n",
      "day 125: buy 1 sell 2 at difference -1442.179993, total balance 168176.415680\n",
      "day 126: buy 1 sell 2 at difference -1381.689949, total balance 169558.105629\n",
      "day 127: buy 1 sell 2 at difference -1373.822510, total balance 170931.928139\n",
      "day 128: buy 1 sell 2 at difference -1363.635048, total balance 172295.563187\n",
      "day 129: buy 1 sell 2 at difference -1369.027466, total balance 173664.590652\n",
      "day 130: buy 1 sell 2 at difference -1391.047455, total balance 175055.638107\n",
      "day 131: buy 1 sell 2 at difference -1387.257492, total balance 176442.895599\n",
      "day 132: buy 1 sell 2 at difference -1384.092445, total balance 177826.988045\n",
      "day 133: buy 1 sell 2 at difference -1371.165039, total balance 179198.153084\n",
      "day 134: buy 1 sell 2 at difference -1394.229988, total balance 180592.383072\n",
      "day 135: buy 1 sell 2 at difference -1401.640022, total balance 181994.023094\n",
      "day 136: buy 1 sell 2 at difference -1389.722504, total balance 183383.745598\n",
      "day 137: buy 1 sell 2 at difference -1401.632492, total balance 184785.378090\n",
      "day 138: buy 1 sell 2 at difference -1440.217529, total balance 186225.595619\n",
      "day 139: buy 1 sell 2 at difference -1428.902489, total balance 187654.498108\n",
      "day 140: buy 1 sell 2 at difference -1457.974998, total balance 189112.473106\n",
      "day 142: buy 1 sell 2 at difference -1459.292526, total balance 190571.765633\n",
      "day 143: buy 1 sell 2 at difference -1481.024979, total balance 192052.790611\n",
      "day 144: buy 1 sell 2 at difference -1517.607506, total balance 193570.398117\n",
      "day 146: buy 1 sell 2 at difference -1514.622551, total balance 195085.020668\n",
      "day 147: buy 1 sell 2 at difference -1500.490036, total balance 196585.510704\n",
      "day 149: buy 1 sell 2 at difference -1585.990021, total balance 198171.500725\n",
      "day 150: buy 1 sell 2 at difference -1508.630013, total balance 199680.130737\n",
      "day 151: buy 1 sell 2 at difference -1460.249962, total balance 201140.380699\n",
      "day 152: buy 1 sell 2 at difference -1410.779976, total balance 202551.160675\n",
      "day 153: buy 1 sell 2 at difference -1429.909981, total balance 203981.070656\n",
      "day 154: buy 1 sell 2 at difference -1412.560051, total balance 205393.630707\n",
      "day 155: buy 1 sell 2 at difference -1403.760010, total balance 206797.390717\n",
      "day 156: buy 1 sell 2 at difference -1393.469955, total balance 208190.860672\n",
      "day 157: buy 1 sell 2 at difference -1419.579994, total balance 209610.440666\n",
      "day 158: buy 1 sell 2 at difference -1399.959969, total balance 211010.400635\n",
      "day 159: buy 1 sell 2 at difference -1376.700043, total balance 212387.100677\n",
      "day 160: buy 1 sell 2 at difference -1344.249969, total balance 213731.350647\n"
     ]
    }
   ],
   "source": [
    "states_buy, states_sell, total_gains, invest = agent.buy(initial_money = initial_money)"
   ]
  },
  {
   "cell_type": "code",
   "execution_count": 103,
   "metadata": {},
   "outputs": [
    {
     "data": {
      "image/png": "[encoded data removed]",
      "text/plain": [
       "<Figure size 1080x360 with 1 Axes>"
      ]
     },
     "metadata": {
      "needs_background": "light"
     },
     "output_type": "display_data"
    }
   ],
   "source": [
    "import matplotlib.pyplot as plt\n",
    "\n",
    "fig = plt.figure(figsize = (15,5))\n",
    "plt.plot(close, color='r', lw=2.)\n",
    "plt.plot(close, '^', markersize=10, color='m', label = 'buying signal', markevery = states_buy)\n",
    "plt.plot(close, 'v', markersize=10, color='k', label = 'selling signal', markevery = states_sell)\n",
    "plt.title('total gains %f, total investment %f%%'%(total_gains, invest))\n",
    "plt.legend()\n",
    "plt.show()"
   ]
  },
  {
   "cell_type": "code",
   "execution_count": null,
   "metadata": {},
   "outputs": [],
   "source": []
  }
 ],
 "metadata": {
  "kernelspec": {
   "display_name": "Python 3",
   "language": "python",
   "name": "python3"
  },
  "language_info": {
   "codemirror_mode": {
    "name": "ipython",
    "version": 3
   },
   "file_extension": ".py",
   "mimetype": "text/x-python",
   "name": "python",
   "nbconvert_exporter": "python",
   "pygments_lexer": "ipython3",
   "version": "3.8.8"
  }
 },
 "nbformat": 4,
 "nbformat_minor": 4
}
