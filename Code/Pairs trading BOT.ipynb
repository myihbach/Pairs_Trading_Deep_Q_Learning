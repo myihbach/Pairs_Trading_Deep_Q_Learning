{
 "cells": [
  {
   "cell_type": "code",
   "execution_count": 2,
   "metadata": {},
   "outputs": [],
   "source": [
    "import pandas as pd\n",
    "import yfinance as yf\n",
    "import datetime\n",
    "import time\n",
    "import requests\n",
    "import io"
   ]
  },
  {
   "cell_type": "code",
   "execution_count": 3,
   "metadata": {},
   "outputs": [
    {
     "name": "stdout",
     "output_type": "stream",
     "text": [
      "[*********************100%***********************]  1 of 1 completed\n",
      "[*********************100%***********************]  1 of 1 completed\n",
      "[*********************100%***********************]  1 of 1 completed\n"
     ]
    }
   ],
   "source": [
    "### To download data for the stocks\n",
    "Symbols = [\"AAPL\",\"GOOGL\",\"FB\"]\n",
    "start = datetime.datetime(2020,2,1)\n",
    "end = datetime.datetime(2020,10,11)\n",
    "\n",
    "stock_final = pd.DataFrame()\n",
    "# iterate over each symbol\n",
    "for i in Symbols:  \n",
    "    \n",
    "    # print the symbol which is being downloaded\n",
    "    print( str(Symbols.index(i)) + str(' : ') + i, sep=',', end=',', flush=True)  \n",
    "    \n",
    "    try:\n",
    "        # download the stock price \n",
    "        stock = []\n",
    "        stock = yf.download(i,start=start, end=end, progress=True)\n",
    "        \n",
    "        # append the individual stock prices \n",
    "        if len(stock) == 0:\n",
    "            None\n",
    "        else:\n",
    "            stock['Name']=i\n",
    "            stock_final = stock_final.append(stock,sort=False)\n",
    "    except Exception:\n",
    "        None\n",
    "        "
   ]
  },
  {
   "cell_type": "code",
   "execution_count": 4,
   "metadata": {},
   "outputs": [
    {
     "data": {
      "text/html": [
       "<div>\n",
       "<style scoped>\n",
       "    .dataframe tbody tr th:only-of-type {\n",
       "        vertical-align: middle;\n",
       "    }\n",
       "\n",
       "    .dataframe tbody tr th {\n",
       "        vertical-align: top;\n",
       "    }\n",
       "\n",
       "    .dataframe thead th {\n",
       "        text-align: right;\n",
       "    }\n",
       "</style>\n",
       "<table border=\"1\" class=\"dataframe\">\n",
       "  <thead>\n",
       "    <tr style=\"text-align: right;\">\n",
       "      <th></th>\n",
       "      <th>Open</th>\n",
       "      <th>High</th>\n",
       "      <th>Low</th>\n",
       "      <th>Close</th>\n",
       "      <th>Adj Close</th>\n",
       "      <th>Volume</th>\n",
       "      <th>Name</th>\n",
       "    </tr>\n",
       "    <tr>\n",
       "      <th>Date</th>\n",
       "      <th></th>\n",
       "      <th></th>\n",
       "      <th></th>\n",
       "      <th></th>\n",
       "      <th></th>\n",
       "      <th></th>\n",
       "      <th></th>\n",
       "    </tr>\n",
       "  </thead>\n",
       "  <tbody>\n",
       "    <tr>\n",
       "      <th>2020-01-31</th>\n",
       "      <td>80.232498</td>\n",
       "      <td>80.669998</td>\n",
       "      <td>77.072502</td>\n",
       "      <td>77.377502</td>\n",
       "      <td>76.244957</td>\n",
       "      <td>199588400</td>\n",
       "      <td>AAPL</td>\n",
       "    </tr>\n",
       "    <tr>\n",
       "      <th>2020-02-03</th>\n",
       "      <td>76.074997</td>\n",
       "      <td>78.372498</td>\n",
       "      <td>75.555000</td>\n",
       "      <td>77.165001</td>\n",
       "      <td>76.035576</td>\n",
       "      <td>173788400</td>\n",
       "      <td>AAPL</td>\n",
       "    </tr>\n",
       "    <tr>\n",
       "      <th>2020-02-04</th>\n",
       "      <td>78.827499</td>\n",
       "      <td>79.910004</td>\n",
       "      <td>78.407501</td>\n",
       "      <td>79.712502</td>\n",
       "      <td>78.545776</td>\n",
       "      <td>136616400</td>\n",
       "      <td>AAPL</td>\n",
       "    </tr>\n",
       "    <tr>\n",
       "      <th>2020-02-05</th>\n",
       "      <td>80.879997</td>\n",
       "      <td>81.190002</td>\n",
       "      <td>79.737503</td>\n",
       "      <td>80.362503</td>\n",
       "      <td>79.186249</td>\n",
       "      <td>118826800</td>\n",
       "      <td>AAPL</td>\n",
       "    </tr>\n",
       "    <tr>\n",
       "      <th>2020-02-06</th>\n",
       "      <td>80.642502</td>\n",
       "      <td>81.305000</td>\n",
       "      <td>80.065002</td>\n",
       "      <td>81.302498</td>\n",
       "      <td>80.112503</td>\n",
       "      <td>105425600</td>\n",
       "      <td>AAPL</td>\n",
       "    </tr>\n",
       "  </tbody>\n",
       "</table>\n",
       "</div>"
      ],
      "text/plain": [
       "                 Open       High        Low      Close  Adj Close     Volume  \\\n",
       "Date                                                                           \n",
       "2020-01-31  80.232498  80.669998  77.072502  77.377502  76.244957  199588400   \n",
       "2020-02-03  76.074997  78.372498  75.555000  77.165001  76.035576  173788400   \n",
       "2020-02-04  78.827499  79.910004  78.407501  79.712502  78.545776  136616400   \n",
       "2020-02-05  80.879997  81.190002  79.737503  80.362503  79.186249  118826800   \n",
       "2020-02-06  80.642502  81.305000  80.065002  81.302498  80.112503  105425600   \n",
       "\n",
       "            Name  \n",
       "Date              \n",
       "2020-01-31  AAPL  \n",
       "2020-02-03  AAPL  \n",
       "2020-02-04  AAPL  \n",
       "2020-02-05  AAPL  \n",
       "2020-02-06  AAPL  "
      ]
     },
     "execution_count": 4,
     "metadata": {},
     "output_type": "execute_result"
    }
   ],
   "source": [
    "# This contains data for all the stocks\n",
    "stock_final.head()"
   ]
  },
  {
   "cell_type": "code",
   "execution_count": 5,
   "metadata": {},
   "outputs": [
    {
     "data": {
      "text/html": [
       "<div>\n",
       "<style scoped>\n",
       "    .dataframe tbody tr th:only-of-type {\n",
       "        vertical-align: middle;\n",
       "    }\n",
       "\n",
       "    .dataframe tbody tr th {\n",
       "        vertical-align: top;\n",
       "    }\n",
       "\n",
       "    .dataframe thead th {\n",
       "        text-align: right;\n",
       "    }\n",
       "</style>\n",
       "<table border=\"1\" class=\"dataframe\">\n",
       "  <thead>\n",
       "    <tr style=\"text-align: right;\">\n",
       "      <th></th>\n",
       "      <th>Open</th>\n",
       "      <th>High</th>\n",
       "      <th>Low</th>\n",
       "      <th>Close</th>\n",
       "      <th>Adj Close</th>\n",
       "      <th>Volume</th>\n",
       "      <th>Name</th>\n",
       "    </tr>\n",
       "    <tr>\n",
       "      <th>Date</th>\n",
       "      <th></th>\n",
       "      <th></th>\n",
       "      <th></th>\n",
       "      <th></th>\n",
       "      <th></th>\n",
       "      <th></th>\n",
       "      <th></th>\n",
       "    </tr>\n",
       "  </thead>\n",
       "  <tbody>\n",
       "    <tr>\n",
       "      <th>2020-01-31</th>\n",
       "      <td>1467.859985</td>\n",
       "      <td>1469.670044</td>\n",
       "      <td>1427.060059</td>\n",
       "      <td>1432.780029</td>\n",
       "      <td>1432.780029</td>\n",
       "      <td>2191100</td>\n",
       "      <td>GOOGL</td>\n",
       "    </tr>\n",
       "    <tr>\n",
       "      <th>2020-02-03</th>\n",
       "      <td>1461.650024</td>\n",
       "      <td>1486.300049</td>\n",
       "      <td>1456.609985</td>\n",
       "      <td>1482.599976</td>\n",
       "      <td>1482.599976</td>\n",
       "      <td>3581800</td>\n",
       "      <td>GOOGL</td>\n",
       "    </tr>\n",
       "    <tr>\n",
       "      <th>2020-02-04</th>\n",
       "      <td>1454.489990</td>\n",
       "      <td>1467.339966</td>\n",
       "      <td>1422.030029</td>\n",
       "      <td>1445.410034</td>\n",
       "      <td>1445.410034</td>\n",
       "      <td>4794000</td>\n",
       "      <td>GOOGL</td>\n",
       "    </tr>\n",
       "    <tr>\n",
       "      <th>2020-02-05</th>\n",
       "      <td>1463.609985</td>\n",
       "      <td>1464.579956</td>\n",
       "      <td>1429.680054</td>\n",
       "      <td>1446.050049</td>\n",
       "      <td>1446.050049</td>\n",
       "      <td>1818800</td>\n",
       "      <td>GOOGL</td>\n",
       "    </tr>\n",
       "    <tr>\n",
       "      <th>2020-02-06</th>\n",
       "      <td>1451.979980</td>\n",
       "      <td>1481.560059</td>\n",
       "      <td>1450.479980</td>\n",
       "      <td>1475.969971</td>\n",
       "      <td>1475.969971</td>\n",
       "      <td>1891100</td>\n",
       "      <td>GOOGL</td>\n",
       "    </tr>\n",
       "  </tbody>\n",
       "</table>\n",
       "</div>"
      ],
      "text/plain": [
       "                   Open         High          Low        Close    Adj Close  \\\n",
       "Date                                                                          \n",
       "2020-01-31  1467.859985  1469.670044  1427.060059  1432.780029  1432.780029   \n",
       "2020-02-03  1461.650024  1486.300049  1456.609985  1482.599976  1482.599976   \n",
       "2020-02-04  1454.489990  1467.339966  1422.030029  1445.410034  1445.410034   \n",
       "2020-02-05  1463.609985  1464.579956  1429.680054  1446.050049  1446.050049   \n",
       "2020-02-06  1451.979980  1481.560059  1450.479980  1475.969971  1475.969971   \n",
       "\n",
       "             Volume   Name  \n",
       "Date                        \n",
       "2020-01-31  2191100  GOOGL  \n",
       "2020-02-03  3581800  GOOGL  \n",
       "2020-02-04  4794000  GOOGL  \n",
       "2020-02-05  1818800  GOOGL  \n",
       "2020-02-06  1891100  GOOGL  "
      ]
     },
     "execution_count": 5,
     "metadata": {},
     "output_type": "execute_result"
    }
   ],
   "source": [
    "#Seperate the data for each stock/company\n",
    "google = stock_final[stock_final[\"Name\"]==\"GOOGL\"]\n",
    "google.head()"
   ]
  },
  {
   "cell_type": "code",
   "execution_count": 6,
   "metadata": {},
   "outputs": [
    {
     "data": {
      "text/html": [
       "<div>\n",
       "<style scoped>\n",
       "    .dataframe tbody tr th:only-of-type {\n",
       "        vertical-align: middle;\n",
       "    }\n",
       "\n",
       "    .dataframe tbody tr th {\n",
       "        vertical-align: top;\n",
       "    }\n",
       "\n",
       "    .dataframe thead th {\n",
       "        text-align: right;\n",
       "    }\n",
       "</style>\n",
       "<table border=\"1\" class=\"dataframe\">\n",
       "  <thead>\n",
       "    <tr style=\"text-align: right;\">\n",
       "      <th></th>\n",
       "      <th>Open</th>\n",
       "      <th>High</th>\n",
       "      <th>Low</th>\n",
       "      <th>Close</th>\n",
       "      <th>Adj Close</th>\n",
       "      <th>Volume</th>\n",
       "      <th>Name</th>\n",
       "    </tr>\n",
       "    <tr>\n",
       "      <th>Date</th>\n",
       "      <th></th>\n",
       "      <th></th>\n",
       "      <th></th>\n",
       "      <th></th>\n",
       "      <th></th>\n",
       "      <th></th>\n",
       "      <th></th>\n",
       "    </tr>\n",
       "  </thead>\n",
       "  <tbody>\n",
       "    <tr>\n",
       "      <th>2020-01-31</th>\n",
       "      <td>208.429993</td>\n",
       "      <td>208.690002</td>\n",
       "      <td>201.059998</td>\n",
       "      <td>201.910004</td>\n",
       "      <td>201.910004</td>\n",
       "      <td>31359900</td>\n",
       "      <td>FB</td>\n",
       "    </tr>\n",
       "    <tr>\n",
       "      <th>2020-02-03</th>\n",
       "      <td>203.440002</td>\n",
       "      <td>205.139999</td>\n",
       "      <td>202.500000</td>\n",
       "      <td>204.190002</td>\n",
       "      <td>204.190002</td>\n",
       "      <td>15495600</td>\n",
       "      <td>FB</td>\n",
       "    </tr>\n",
       "    <tr>\n",
       "      <th>2020-02-04</th>\n",
       "      <td>206.619995</td>\n",
       "      <td>210.600006</td>\n",
       "      <td>205.199997</td>\n",
       "      <td>209.830002</td>\n",
       "      <td>209.830002</td>\n",
       "      <td>19628900</td>\n",
       "      <td>FB</td>\n",
       "    </tr>\n",
       "    <tr>\n",
       "      <th>2020-02-05</th>\n",
       "      <td>212.509995</td>\n",
       "      <td>212.729996</td>\n",
       "      <td>208.710007</td>\n",
       "      <td>210.110001</td>\n",
       "      <td>210.110001</td>\n",
       "      <td>12538200</td>\n",
       "      <td>FB</td>\n",
       "    </tr>\n",
       "    <tr>\n",
       "      <th>2020-02-06</th>\n",
       "      <td>210.470001</td>\n",
       "      <td>211.190002</td>\n",
       "      <td>209.339996</td>\n",
       "      <td>210.850006</td>\n",
       "      <td>210.850006</td>\n",
       "      <td>10567500</td>\n",
       "      <td>FB</td>\n",
       "    </tr>\n",
       "  </tbody>\n",
       "</table>\n",
       "</div>"
      ],
      "text/plain": [
       "                  Open        High         Low       Close   Adj Close  \\\n",
       "Date                                                                     \n",
       "2020-01-31  208.429993  208.690002  201.059998  201.910004  201.910004   \n",
       "2020-02-03  203.440002  205.139999  202.500000  204.190002  204.190002   \n",
       "2020-02-04  206.619995  210.600006  205.199997  209.830002  209.830002   \n",
       "2020-02-05  212.509995  212.729996  208.710007  210.110001  210.110001   \n",
       "2020-02-06  210.470001  211.190002  209.339996  210.850006  210.850006   \n",
       "\n",
       "              Volume Name  \n",
       "Date                       \n",
       "2020-01-31  31359900   FB  \n",
       "2020-02-03  15495600   FB  \n",
       "2020-02-04  19628900   FB  \n",
       "2020-02-05  12538200   FB  \n",
       "2020-02-06  10567500   FB  "
      ]
     },
     "execution_count": 6,
     "metadata": {},
     "output_type": "execute_result"
    }
   ],
   "source": [
    "facebook = stock_final[stock_final[\"Name\"]==\"FB\"]\n",
    "facebook.head()"
   ]
  },
  {
   "cell_type": "code",
   "execution_count": 7,
   "metadata": {},
   "outputs": [
    {
     "data": {
      "text/html": [
       "<div>\n",
       "<style scoped>\n",
       "    .dataframe tbody tr th:only-of-type {\n",
       "        vertical-align: middle;\n",
       "    }\n",
       "\n",
       "    .dataframe tbody tr th {\n",
       "        vertical-align: top;\n",
       "    }\n",
       "\n",
       "    .dataframe thead th {\n",
       "        text-align: right;\n",
       "    }\n",
       "</style>\n",
       "<table border=\"1\" class=\"dataframe\">\n",
       "  <thead>\n",
       "    <tr style=\"text-align: right;\">\n",
       "      <th></th>\n",
       "      <th>Open</th>\n",
       "      <th>High</th>\n",
       "      <th>Low</th>\n",
       "      <th>Close</th>\n",
       "      <th>Adj Close</th>\n",
       "      <th>Volume</th>\n",
       "      <th>Name</th>\n",
       "    </tr>\n",
       "    <tr>\n",
       "      <th>Date</th>\n",
       "      <th></th>\n",
       "      <th></th>\n",
       "      <th></th>\n",
       "      <th></th>\n",
       "      <th></th>\n",
       "      <th></th>\n",
       "      <th></th>\n",
       "    </tr>\n",
       "  </thead>\n",
       "  <tbody>\n",
       "    <tr>\n",
       "      <th>2020-01-31</th>\n",
       "      <td>80.232498</td>\n",
       "      <td>80.669998</td>\n",
       "      <td>77.072502</td>\n",
       "      <td>77.377502</td>\n",
       "      <td>76.244957</td>\n",
       "      <td>199588400</td>\n",
       "      <td>AAPL</td>\n",
       "    </tr>\n",
       "    <tr>\n",
       "      <th>2020-02-03</th>\n",
       "      <td>76.074997</td>\n",
       "      <td>78.372498</td>\n",
       "      <td>75.555000</td>\n",
       "      <td>77.165001</td>\n",
       "      <td>76.035576</td>\n",
       "      <td>173788400</td>\n",
       "      <td>AAPL</td>\n",
       "    </tr>\n",
       "    <tr>\n",
       "      <th>2020-02-04</th>\n",
       "      <td>78.827499</td>\n",
       "      <td>79.910004</td>\n",
       "      <td>78.407501</td>\n",
       "      <td>79.712502</td>\n",
       "      <td>78.545776</td>\n",
       "      <td>136616400</td>\n",
       "      <td>AAPL</td>\n",
       "    </tr>\n",
       "    <tr>\n",
       "      <th>2020-02-05</th>\n",
       "      <td>80.879997</td>\n",
       "      <td>81.190002</td>\n",
       "      <td>79.737503</td>\n",
       "      <td>80.362503</td>\n",
       "      <td>79.186249</td>\n",
       "      <td>118826800</td>\n",
       "      <td>AAPL</td>\n",
       "    </tr>\n",
       "    <tr>\n",
       "      <th>2020-02-06</th>\n",
       "      <td>80.642502</td>\n",
       "      <td>81.305000</td>\n",
       "      <td>80.065002</td>\n",
       "      <td>81.302498</td>\n",
       "      <td>80.112503</td>\n",
       "      <td>105425600</td>\n",
       "      <td>AAPL</td>\n",
       "    </tr>\n",
       "  </tbody>\n",
       "</table>\n",
       "</div>"
      ],
      "text/plain": [
       "                 Open       High        Low      Close  Adj Close     Volume  \\\n",
       "Date                                                                           \n",
       "2020-01-31  80.232498  80.669998  77.072502  77.377502  76.244957  199588400   \n",
       "2020-02-03  76.074997  78.372498  75.555000  77.165001  76.035576  173788400   \n",
       "2020-02-04  78.827499  79.910004  78.407501  79.712502  78.545776  136616400   \n",
       "2020-02-05  80.879997  81.190002  79.737503  80.362503  79.186249  118826800   \n",
       "2020-02-06  80.642502  81.305000  80.065002  81.302498  80.112503  105425600   \n",
       "\n",
       "            Name  \n",
       "Date              \n",
       "2020-01-31  AAPL  \n",
       "2020-02-03  AAPL  \n",
       "2020-02-04  AAPL  \n",
       "2020-02-05  AAPL  \n",
       "2020-02-06  AAPL  "
      ]
     },
     "execution_count": 7,
     "metadata": {},
     "output_type": "execute_result"
    }
   ],
   "source": [
    "apple = stock_final[stock_final[\"Name\"]==\"AAPL\"]\n",
    "apple.head()"
   ]
  },
  {
   "cell_type": "markdown",
   "metadata": {},
   "source": [
    "#### Studying the spread between each pair of stocks"
   ]
  },
  {
   "cell_type": "code",
   "execution_count": 8,
   "metadata": {},
   "outputs": [],
   "source": [
    "AF_spread = apple.Close - facebook.Close"
   ]
  },
  {
   "cell_type": "code",
   "execution_count": 9,
   "metadata": {},
   "outputs": [],
   "source": [
    "AG_spread = apple.Close - google.Close"
   ]
  },
  {
   "cell_type": "code",
   "execution_count": 10,
   "metadata": {},
   "outputs": [],
   "source": [
    "GF_spread = google.Close - facebook.Close"
   ]
  },
  {
   "cell_type": "code",
   "execution_count": 11,
   "metadata": {},
   "outputs": [
    {
     "data": {
      "text/plain": [
       "Date\n",
       "2020-01-31   -124.532501\n",
       "2020-02-03   -127.025002\n",
       "2020-02-04   -130.117500\n",
       "2020-02-05   -129.747498\n",
       "2020-02-06   -129.547508\n",
       "Name: Close, dtype: float64"
      ]
     },
     "execution_count": 11,
     "metadata": {},
     "output_type": "execute_result"
    }
   ],
   "source": [
    "AF_spread.head()"
   ]
  },
  {
   "cell_type": "code",
   "execution_count": 12,
   "metadata": {},
   "outputs": [],
   "source": [
    "## the most cointegrated pair\n",
    "stock1 = pd.read_csv('data/2021-december/PKI.csv')\n",
    "stock2 = pd.read_csv('data/2021-december/S.csv')\n",
    "beta = 3.8312600785683832"
   ]
  },
  {
   "cell_type": "code",
   "execution_count": 13,
   "metadata": {},
   "outputs": [],
   "source": [
    "spread = stock1.Close - beta * stock2.Close"
   ]
  },
  {
   "cell_type": "markdown",
   "metadata": {},
   "source": [
    "### Checking for stationarity over spreads"
   ]
  },
  {
   "cell_type": "code",
   "execution_count": 14,
   "metadata": {},
   "outputs": [],
   "source": [
    "import matplotlib.pyplot as plt"
   ]
  },
  {
   "cell_type": "code",
   "execution_count": 15,
   "metadata": {},
   "outputs": [
    {
     "name": "stdout",
     "output_type": "stream",
     "text": [
      "The mean of the spread is : 0.21564519689464232\n"
     ]
    },
    {
     "data": {
      "image/png": "[encoded data removed]",
      "text/plain": [
       "<Figure size 432x288 with 1 Axes>"
      ]
     },
     "metadata": {
      "needs_background": "light"
     },
     "output_type": "display_data"
    }
   ],
   "source": [
    "print(\"The mean of the spread is :\",spread.mean())\n",
    "plt.plot(spread)\n",
    "plt.show()"
   ]
  },
  {
   "cell_type": "code",
   "execution_count": 16,
   "metadata": {},
   "outputs": [
    {
     "name": "stdout",
     "output_type": "stream",
     "text": [
      "The mean of the spread is : -1320.6718361160972\n"
     ]
    },
    {
     "data": {
      "image/png": "[encoded data removed]",
      "text/plain": [
       "<Figure size 432x288 with 1 Axes>"
      ]
     },
     "metadata": {
      "needs_background": "light"
     },
     "output_type": "display_data"
    }
   ],
   "source": [
    "print(\"The mean of the spread is :\",AG_spread.mean())\n",
    "AG_spread.plot()\n",
    "plt.show()"
   ]
  },
  {
   "cell_type": "code",
   "execution_count": 17,
   "metadata": {},
   "outputs": [
    {
     "name": "stdout",
     "output_type": "stream",
     "text": [
      "The mean of the spread is : 1186.502104845914\n"
     ]
    },
    {
     "data": {
      "image/png": "[encoded data removed]",
      "text/plain": [
       "<Figure size 432x288 with 1 Axes>"
      ]
     },
     "metadata": {
      "needs_background": "light"
     },
     "output_type": "display_data"
    }
   ],
   "source": [
    "print(\"The mean of the spread is :\",GF_spread.mean())\n",
    "GF_spread.plot()\n",
    "plt.show()"
   ]
  },
  {
   "cell_type": "markdown",
   "metadata": {},
   "source": [
    "#### ADFULLER TEST"
   ]
  },
  {
   "cell_type": "code",
   "execution_count": 18,
   "metadata": {},
   "outputs": [],
   "source": [
    "\n",
    "from statsmodels.tsa.stattools import adfuller\n",
    "result = adfuller(spread)"
   ]
  },
  {
   "cell_type": "code",
   "execution_count": 19,
   "metadata": {},
   "outputs": [
    {
     "name": "stdout",
     "output_type": "stream",
     "text": [
      "ADF Statistic: -5.503918\n",
      "p-value: 0.000002\n",
      "Critical Values:\n",
      "\t1%: -3.434\n",
      "\t5%: -2.863\n",
      "\t10%: -2.568\n"
     ]
    }
   ],
   "source": [
    "print('ADF Statistic: %f' % result[0])\n",
    "print('p-value: %f' % result[1])\n",
    "print('Critical Values:')\n",
    "for key, value in result[4].items():\n",
    "    print('\\t%s: %.3f' % (key, value))"
   ]
  },
  {
   "cell_type": "markdown",
   "metadata": {},
   "source": [
    "#### The most cointegrated pair based on the data of 2021-12-28 is ('BBBY', 'MCK')"
   ]
  },
  {
   "cell_type": "code",
   "execution_count": 20,
   "metadata": {},
   "outputs": [],
   "source": [
    "import torch.nn as nn\n",
    "import torch.nn.functional as F\n",
    "import torch\n",
    "from collections import deque\n",
    "import random\n",
    "import pandas as pd\n",
    "import numpy as np\n",
    "import torch.optim as optim"
   ]
  },
  {
   "cell_type": "code",
   "execution_count": 91,
   "metadata": {},
   "outputs": [],
   "source": [
    "class DQN(nn.Module):\n",
    "    def __init__(self):\n",
    "        super().__init__()\n",
    "        # Defining network to optimize our Q function\n",
    "        self.input = nn.Linear(10,50)\n",
    "        self.dense1 = nn.Linear(50,50)\n",
    "        self.out = nn.Linear(50, 3)\n",
    "    ## Forward propagation\n",
    "    def forward(self, x):\n",
    "        x = self.input(x)\n",
    "        x = F.relu(x)\n",
    "        x = self.dense1(x)\n",
    "        x = F.relu(x)\n",
    "        x = self.out(x)\n",
    "\n",
    "        return x\n",
    "    ## Train model\n",
    "    def train(self,X,Y):\n",
    "        criterion = nn.HuberLoss()\n",
    "        optimizer = optim.Adam(self.parameters(), lr=0.001)\n",
    "        running_loss = 0.0\n",
    "        for i in range(len(X)):\n",
    "            inputs, labels= torch.FloatTensor(X[i]), torch.FloatTensor(Y[i])\n",
    "            optimizer.zero_grad()\n",
    "            out = self(inputs)\n",
    "            loss = criterion(out, labels)\n",
    "            loss.backward()          ## This does back propagation\n",
    "            optimizer.step()         ## To optimize loss function \n",
    "            running_loss+=loss.item()  ## the value of the loss function after training\n",
    "        \n",
    "        return running_loss\n",
    "    \n",
    "    "
   ]
  },
  {
   "cell_type": "code",
   "execution_count": 121,
   "metadata": {},
   "outputs": [],
   "source": [
    "class Agent:\n",
    "    def __init__(self, state_size,window_size,trend, skip,batch_size,stock1,stock2):\n",
    "        self.stock1 = stock1\n",
    "        self.stock2 = stock2\n",
    "        self.state_size = state_size\n",
    "        self.window_size = window_size\n",
    "        self.half_window = window_size // 2\n",
    "        self.trend = trend\n",
    "        self.skip = skip\n",
    "        self.action_size = 3 \n",
    "        self.batch_size = batch_size\n",
    "        self.memory = deque(maxlen = 1000)\n",
    "        self.inventory = []\n",
    "        self.gamma = 0.3\n",
    "        self.epsilon = 0.3\n",
    "        self.epsilon_min = 0.01\n",
    "        self.epsilon_decay = 0.999\n",
    "        self.model = DQN()\n",
    "        \n",
    "    def act(self,state):\n",
    "        if random.random() <= self.epsilon:\n",
    "            return random.randrange(self.action_size)\n",
    "        return torch.argmax(self.model(torch.FloatTensor(state)))\n",
    "    \n",
    "    def get_state(self,t):\n",
    "        current_mean = sum(self.trend[:t])/len(self.trend[:t+1])\n",
    "        \n",
    "        \n",
    "        daily_returns = self.trend[t] - self.trend[t-1] if t >= 1 else 0.0\n",
    "        spread_mean_15 = sum(self.trend[t-15:t]) / 15 if t>=15 else sum(self.trend[:t+1]) /(t+1)\n",
    "        mean_over_15 = current_mean / spread_mean_15\n",
    "        spread_mean_10 = sum(self.trend[t-10:t]) / 10 if t>=10 else sum(self.trend[:t+1]) /(t+1)\n",
    "        mean_over_10 = current_mean/spread_mean_10\n",
    "        spread_mean_7 = sum(self.trend[t-7:t]) / 7 if t>=7 else sum(self.trend[:t+1]) /(t+1)\n",
    "        mean_over_7 = current_mean/spread_mean_7\n",
    "        spread_mean_5 = sum(self.trend[t-5:t]) / 7 if t>=5 else sum(self.trend[:t+1]) /(t+1)\n",
    "        mean_over_5 = current_mean/spread_mean_5\n",
    "        \n",
    "        state = [self.trend[t],daily_returns,\n",
    "                 spread_mean_15,mean_over_15,\n",
    "                 spread_mean_10,mean_over_10,\n",
    "                 spread_mean_7,mean_over_7,\n",
    "                 spread_mean_5,mean_over_5]\n",
    "        \n",
    "        return np.array([state])\n",
    "    \n",
    "    def buy(self,initial_money):\n",
    "        starting_money = initial_money\n",
    "        states_sell = []\n",
    "        states_buy = []\n",
    "        inventory1 = [self.stock1[0]]\n",
    "        inventory2=[]\n",
    "        state = self.get_state(0)\n",
    "        for t in range(0, len(self.trend) - 1, self.skip):\n",
    "            action = self.act(state)\n",
    "            next_state = self.get_state(t + 1)\n",
    "            \n",
    "            if action == 1 and starting_money >= self.trend[t] and len(inventory2)>0 and t < (len(self.trend) - self.half_window):\n",
    "                bought_price = inventory2.pop(0)\n",
    "                inventory1.append(self.stock1[t])\n",
    "                initial_money -= self.trend[t]\n",
    "                states_buy.append(t)\n",
    "                print('day %d: buy 1 sell 2 at difference %f, total balance %f'% (t, self.trend[t], initial_money))\n",
    "                \n",
    "            elif action == 2 and starting_money >= -self.trend[t] and len(inventory1)>0 and t < (len(self.trend) - self.half_window):\n",
    "                bought_price = inventory1.pop(0)\n",
    "                inventory2.append(self.stock2[t])\n",
    "                initial_money += self.trend[t]\n",
    "                states_sell.append(t)\n",
    "                print('day %d: buy 2 sell 1 at difference %f, total balance %f'% (t, self.trend[t], initial_money))\n",
    "                \n",
    "            \n",
    "            state = next_state\n",
    "        invest = ((initial_money - starting_money) / starting_money) * 100\n",
    "        total_gains = initial_money - starting_money\n",
    "        return states_buy, states_sell, total_gains, invest\n",
    "    \n",
    "    def replay(self,batch_size):\n",
    "        mini_batch = []\n",
    "        l = len(self.memory)\n",
    "        for i in range(l-batch_size,l):\n",
    "            mini_batch.append(self.memory[i])\n",
    "        replay_size = len(mini_batch)\n",
    "        X = np.empty((replay_size, self.state_size))\n",
    "        Y = np.empty((replay_size, self.action_size))\n",
    "        states = np.array([a[0][0] for a in mini_batch])\n",
    "        new_states = np.array([a[3][0] for a in mini_batch])\n",
    "        Q = self.model(torch.FloatTensor(states)).tolist()\n",
    "        Q_new = self.model(torch.FloatTensor(new_states)).tolist()\n",
    "\n",
    "        for i in range(len(mini_batch)):\n",
    "            state, action, reward, next_state, done = mini_batch[i]\n",
    "            target = Q[i]\n",
    "            target[action] = reward\n",
    "            \n",
    "            if not done:\n",
    "                target[action] += self.gamma * max(Q_new[i])\n",
    "            X[i] = state\n",
    "            Y[i] = target\n",
    "        cost = self.model.train(X,Y)\n",
    "        if self.epsilon > self.epsilon_min:\n",
    "            self.epsilon *= self.epsilon_decay\n",
    "        return cost\n",
    "    \n",
    "    def train(self, iterations, checkpoint, initial_money,):\n",
    "        for i in range(iterations):\n",
    "            total_profit = 0\n",
    "            inventory1 = [self.stock1[0]]\n",
    "            inventory2 = []\n",
    "            state = self.get_state(0)\n",
    "            starting_money = initial_money\n",
    "            for t in range(0, len(self.trend) - 1, self.skip):\n",
    "                action = self.act(state)\n",
    "                next_state = self.get_state(t + 1)\n",
    "                \n",
    "                if action == 1 and starting_money >= self.trend[t] and len(inventory2)>0:\n",
    "                    bought_price = inventory2.pop(0)\n",
    "                    inventory1.append(self.stock1[t])\n",
    "                    starting_money -= self.trend[t] \n",
    "                    \n",
    "                elif action == 2 and starting_money >= -self.trend[t] and len(inventory1)>0:\n",
    "                    bought_price = inventory1.pop(0)\n",
    "                    inventory2.append(self.stock2[t])\n",
    "                    starting_money += self.trend[t]\n",
    "                    \n",
    "                invest = ((starting_money - initial_money) / initial_money)\n",
    "\n",
    "                self.memory.append((state, action, invest, \n",
    "                                    next_state, starting_money < initial_money))\n",
    "                state = next_state\n",
    "                batch_size = min(self.batch_size, len(self.memory))\n",
    "                cost = self.replay(batch_size)   \n",
    "            total_profit = starting_money-initial_money\n",
    "            if (i+1) % checkpoint == 0:\n",
    "                print('epoch: %d, total rewards: %f.3, cost: %f, total money: %f'%(i + 1, total_profit, cost,\n",
    "                                                                                  starting_money))               \n",
    "                "
   ]
  },
  {
   "cell_type": "code",
   "execution_count": 122,
   "metadata": {},
   "outputs": [
    {
     "data": {
      "text/plain": [
       "3.8312600785683832"
      ]
     },
     "execution_count": 122,
     "metadata": {},
     "output_type": "execute_result"
    }
   ],
   "source": [
    "beta"
   ]
  },
  {
   "cell_type": "code",
   "execution_count": 123,
   "metadata": {},
   "outputs": [],
   "source": [
    "## Action 1: Buy first Sell second\n",
    "## Action 2: Buy second Sell first\n",
    "## Difference is first-second"
   ]
  },
  {
   "cell_type": "code",
   "execution_count": 124,
   "metadata": {},
   "outputs": [
    {
     "name": "stdout",
     "output_type": "stream",
     "text": [
      "700\n"
     ]
    }
   ],
   "source": [
    "close = spread.values.tolist()[:700]\n",
    "print(len(close))"
   ]
  },
  {
   "cell_type": "code",
   "execution_count": 125,
   "metadata": {},
   "outputs": [],
   "source": [
    "initial_money = 10000\n",
    "window_size = 10\n",
    "skip = 1\n",
    "batch_size = 32\n",
    "stock1 = pd.read_csv('data/2021-december/PKI.csv').Close.tolist()\n",
    "stock2 = pd.read_csv('data/2021-december/S.csv').Close.tolist()\n",
    "agent = Agent(state_size = window_size, \n",
    "              window_size = window_size, \n",
    "              trend = close, \n",
    "              skip = skip, \n",
    "              batch_size = batch_size,\n",
    "             stock1 = stock1[:700],\n",
    "             stock2 = stock2[:700])"
   ]
  },
  {
   "cell_type": "code",
   "execution_count": 126,
   "metadata": {},
   "outputs": [
    {
     "name": "stdout",
     "output_type": "stream",
     "text": [
      "epoch: 5, total rewards: -32.173759.3, cost: 0.000143, total money: 9967.826241\n",
      "epoch: 10, total rewards: 2.535942.3, cost: 0.000001, total money: 10002.535942\n",
      "epoch: 15, total rewards: -0.123036.3, cost: 0.000000, total money: 9999.876964\n",
      "epoch: 20, total rewards: 3.478059.3, cost: 0.000646, total money: 10003.478059\n",
      "epoch: 25, total rewards: 1.764793.3, cost: 0.000033, total money: 10001.764793\n",
      "epoch: 30, total rewards: 0.178565.3, cost: 0.000001, total money: 10000.178565\n",
      "epoch: 35, total rewards: 0.947504.3, cost: 0.000001, total money: 10000.947504\n",
      "epoch: 40, total rewards: 6.835496.3, cost: 0.000001, total money: 10006.835496\n",
      "epoch: 45, total rewards: 1.133739.3, cost: 0.000001, total money: 10001.133739\n",
      "epoch: 50, total rewards: 0.000000.3, cost: 0.000001, total money: 10000.000000\n",
      "epoch: 55, total rewards: -3.807824.3, cost: 0.000001, total money: 9996.192176\n",
      "epoch: 60, total rewards: -0.030071.3, cost: 0.000001, total money: 9999.969929\n",
      "epoch: 65, total rewards: 1.845378.3, cost: 0.000001, total money: 10001.845378\n",
      "epoch: 70, total rewards: -0.215725.3, cost: 0.000001, total money: 9999.784275\n",
      "epoch: 75, total rewards: 0.305080.3, cost: 0.000073, total money: 10000.305080\n",
      "epoch: 80, total rewards: -0.011796.3, cost: 0.000000, total money: 9999.988204\n",
      "epoch: 85, total rewards: 0.000000.3, cost: 0.000001, total money: 10000.000000\n",
      "epoch: 90, total rewards: -3.660690.3, cost: 0.000001, total money: 9996.339310\n",
      "epoch: 95, total rewards: 3.730669.3, cost: 0.000001, total money: 10003.730669\n",
      "epoch: 100, total rewards: -0.536462.3, cost: 0.000000, total money: 9999.463538\n",
      "epoch: 105, total rewards: 3.449698.3, cost: 0.000001, total money: 10003.449698\n",
      "epoch: 110, total rewards: 0.000000.3, cost: 0.000001, total money: 10000.000000\n",
      "epoch: 115, total rewards: -3.531327.3, cost: 0.000000, total money: 9996.468673\n",
      "epoch: 120, total rewards: -0.940811.3, cost: 0.000001, total money: 9999.059189\n",
      "epoch: 125, total rewards: 0.566793.3, cost: 0.000001, total money: 10000.566793\n",
      "epoch: 130, total rewards: -3.771897.3, cost: 0.000001, total money: 9996.228103\n",
      "epoch: 135, total rewards: 0.000000.3, cost: 0.000001, total money: 10000.000000\n",
      "epoch: 140, total rewards: 4.434355.3, cost: 0.000001, total money: 10004.434355\n",
      "epoch: 145, total rewards: -2.287385.3, cost: 0.000000, total money: 9997.712615\n",
      "epoch: 150, total rewards: 0.000000.3, cost: 0.000046, total money: 10000.000000\n",
      "epoch: 155, total rewards: 0.939483.3, cost: 0.000001, total money: 10000.939483\n",
      "epoch: 160, total rewards: 1.654135.3, cost: 0.000050, total money: 10001.654135\n",
      "epoch: 165, total rewards: 12.712618.3, cost: 0.000001, total money: 10012.712618\n",
      "epoch: 170, total rewards: -1.235398.3, cost: 0.000001, total money: 9998.764602\n",
      "epoch: 175, total rewards: -1.612592.3, cost: 0.000001, total money: 9998.387408\n",
      "epoch: 180, total rewards: 1.434159.3, cost: 0.000001, total money: 10001.434159\n"
     ]
    },
    {
     "ename": "KeyboardInterrupt",
     "evalue": "",
     "output_type": "error",
     "traceback": [
      "\u001b[0;31m---------------------------------------------------------------------------\u001b[0m",
      "\u001b[0;31mKeyboardInterrupt\u001b[0m                         Traceback (most recent call last)",
      "\u001b[0;32m/var/folders/2j/77m_02zx0h79hhl0b_3mmmc40000gn/T/ipykernel_38217/4240551242.py\u001b[0m in \u001b[0;36m<module>\u001b[0;34m\u001b[0m\n\u001b[0;32m----> 1\u001b[0;31m \u001b[0magent\u001b[0m\u001b[0;34m.\u001b[0m\u001b[0mtrain\u001b[0m\u001b[0;34m(\u001b[0m\u001b[0miterations\u001b[0m \u001b[0;34m=\u001b[0m \u001b[0;36m200\u001b[0m\u001b[0;34m,\u001b[0m \u001b[0mcheckpoint\u001b[0m \u001b[0;34m=\u001b[0m \u001b[0;36m5\u001b[0m\u001b[0;34m,\u001b[0m \u001b[0minitial_money\u001b[0m \u001b[0;34m=\u001b[0m \u001b[0minitial_money\u001b[0m\u001b[0;34m)\u001b[0m\u001b[0;34m\u001b[0m\u001b[0;34m\u001b[0m\u001b[0m\n\u001b[0m",
      "\u001b[0;32m/var/folders/2j/77m_02zx0h79hhl0b_3mmmc40000gn/T/ipykernel_38217/1577774522.py\u001b[0m in \u001b[0;36mtrain\u001b[0;34m(self, iterations, checkpoint, initial_money)\u001b[0m\n\u001b[1;32m    130\u001b[0m                 \u001b[0mstate\u001b[0m \u001b[0;34m=\u001b[0m \u001b[0mnext_state\u001b[0m\u001b[0;34m\u001b[0m\u001b[0;34m\u001b[0m\u001b[0m\n\u001b[1;32m    131\u001b[0m                 \u001b[0mbatch_size\u001b[0m \u001b[0;34m=\u001b[0m \u001b[0mmin\u001b[0m\u001b[0;34m(\u001b[0m\u001b[0mself\u001b[0m\u001b[0;34m.\u001b[0m\u001b[0mbatch_size\u001b[0m\u001b[0;34m,\u001b[0m \u001b[0mlen\u001b[0m\u001b[0;34m(\u001b[0m\u001b[0mself\u001b[0m\u001b[0;34m.\u001b[0m\u001b[0mmemory\u001b[0m\u001b[0;34m)\u001b[0m\u001b[0;34m)\u001b[0m\u001b[0;34m\u001b[0m\u001b[0;34m\u001b[0m\u001b[0m\n\u001b[0;32m--> 132\u001b[0;31m                 \u001b[0mcost\u001b[0m \u001b[0;34m=\u001b[0m \u001b[0mself\u001b[0m\u001b[0;34m.\u001b[0m\u001b[0mreplay\u001b[0m\u001b[0;34m(\u001b[0m\u001b[0mbatch_size\u001b[0m\u001b[0;34m)\u001b[0m\u001b[0;34m\u001b[0m\u001b[0;34m\u001b[0m\u001b[0m\n\u001b[0m\u001b[1;32m    133\u001b[0m             \u001b[0mtotal_profit\u001b[0m \u001b[0;34m=\u001b[0m \u001b[0mstarting_money\u001b[0m\u001b[0;34m-\u001b[0m\u001b[0minitial_money\u001b[0m\u001b[0;34m\u001b[0m\u001b[0;34m\u001b[0m\u001b[0m\n\u001b[1;32m    134\u001b[0m             \u001b[0;32mif\u001b[0m \u001b[0;34m(\u001b[0m\u001b[0mi\u001b[0m\u001b[0;34m+\u001b[0m\u001b[0;36m1\u001b[0m\u001b[0;34m)\u001b[0m \u001b[0;34m%\u001b[0m \u001b[0mcheckpoint\u001b[0m \u001b[0;34m==\u001b[0m \u001b[0;36m0\u001b[0m\u001b[0;34m:\u001b[0m\u001b[0;34m\u001b[0m\u001b[0;34m\u001b[0m\u001b[0m\n",
      "\u001b[0;32m/var/folders/2j/77m_02zx0h79hhl0b_3mmmc40000gn/T/ipykernel_38217/1577774522.py\u001b[0m in \u001b[0;36mreplay\u001b[0;34m(self, batch_size)\u001b[0m\n\u001b[1;32m     98\u001b[0m             \u001b[0mX\u001b[0m\u001b[0;34m[\u001b[0m\u001b[0mi\u001b[0m\u001b[0;34m]\u001b[0m \u001b[0;34m=\u001b[0m \u001b[0mstate\u001b[0m\u001b[0;34m\u001b[0m\u001b[0;34m\u001b[0m\u001b[0m\n\u001b[1;32m     99\u001b[0m             \u001b[0mY\u001b[0m\u001b[0;34m[\u001b[0m\u001b[0mi\u001b[0m\u001b[0;34m]\u001b[0m \u001b[0;34m=\u001b[0m \u001b[0mtarget\u001b[0m\u001b[0;34m\u001b[0m\u001b[0;34m\u001b[0m\u001b[0m\n\u001b[0;32m--> 100\u001b[0;31m         \u001b[0mcost\u001b[0m \u001b[0;34m=\u001b[0m \u001b[0mself\u001b[0m\u001b[0;34m.\u001b[0m\u001b[0mmodel\u001b[0m\u001b[0;34m.\u001b[0m\u001b[0mtrain\u001b[0m\u001b[0;34m(\u001b[0m\u001b[0mX\u001b[0m\u001b[0;34m,\u001b[0m\u001b[0mY\u001b[0m\u001b[0;34m)\u001b[0m\u001b[0;34m\u001b[0m\u001b[0;34m\u001b[0m\u001b[0m\n\u001b[0m\u001b[1;32m    101\u001b[0m         \u001b[0;32mif\u001b[0m \u001b[0mself\u001b[0m\u001b[0;34m.\u001b[0m\u001b[0mepsilon\u001b[0m \u001b[0;34m>\u001b[0m \u001b[0mself\u001b[0m\u001b[0;34m.\u001b[0m\u001b[0mepsilon_min\u001b[0m\u001b[0;34m:\u001b[0m\u001b[0;34m\u001b[0m\u001b[0;34m\u001b[0m\u001b[0m\n\u001b[1;32m    102\u001b[0m             \u001b[0mself\u001b[0m\u001b[0;34m.\u001b[0m\u001b[0mepsilon\u001b[0m \u001b[0;34m*=\u001b[0m \u001b[0mself\u001b[0m\u001b[0;34m.\u001b[0m\u001b[0mepsilon_decay\u001b[0m\u001b[0;34m\u001b[0m\u001b[0;34m\u001b[0m\u001b[0m\n",
      "\u001b[0;32m/var/folders/2j/77m_02zx0h79hhl0b_3mmmc40000gn/T/ipykernel_38217/178253490.py\u001b[0m in \u001b[0;36mtrain\u001b[0;34m(self, X, Y)\u001b[0m\n\u001b[1;32m     22\u001b[0m         \u001b[0;32mfor\u001b[0m \u001b[0mi\u001b[0m \u001b[0;32min\u001b[0m \u001b[0mrange\u001b[0m\u001b[0;34m(\u001b[0m\u001b[0mlen\u001b[0m\u001b[0;34m(\u001b[0m\u001b[0mX\u001b[0m\u001b[0;34m)\u001b[0m\u001b[0;34m)\u001b[0m\u001b[0;34m:\u001b[0m\u001b[0;34m\u001b[0m\u001b[0;34m\u001b[0m\u001b[0m\n\u001b[1;32m     23\u001b[0m             \u001b[0minputs\u001b[0m\u001b[0;34m,\u001b[0m \u001b[0mlabels\u001b[0m\u001b[0;34m=\u001b[0m \u001b[0mtorch\u001b[0m\u001b[0;34m.\u001b[0m\u001b[0mFloatTensor\u001b[0m\u001b[0;34m(\u001b[0m\u001b[0mX\u001b[0m\u001b[0;34m[\u001b[0m\u001b[0mi\u001b[0m\u001b[0;34m]\u001b[0m\u001b[0;34m)\u001b[0m\u001b[0;34m,\u001b[0m \u001b[0mtorch\u001b[0m\u001b[0;34m.\u001b[0m\u001b[0mFloatTensor\u001b[0m\u001b[0;34m(\u001b[0m\u001b[0mY\u001b[0m\u001b[0;34m[\u001b[0m\u001b[0mi\u001b[0m\u001b[0;34m]\u001b[0m\u001b[0;34m)\u001b[0m\u001b[0;34m\u001b[0m\u001b[0;34m\u001b[0m\u001b[0m\n\u001b[0;32m---> 24\u001b[0;31m             \u001b[0moptimizer\u001b[0m\u001b[0;34m.\u001b[0m\u001b[0mzero_grad\u001b[0m\u001b[0;34m(\u001b[0m\u001b[0;34m)\u001b[0m\u001b[0;34m\u001b[0m\u001b[0;34m\u001b[0m\u001b[0m\n\u001b[0m\u001b[1;32m     25\u001b[0m             \u001b[0mout\u001b[0m \u001b[0;34m=\u001b[0m \u001b[0mself\u001b[0m\u001b[0;34m(\u001b[0m\u001b[0minputs\u001b[0m\u001b[0;34m)\u001b[0m\u001b[0;34m\u001b[0m\u001b[0;34m\u001b[0m\u001b[0m\n\u001b[1;32m     26\u001b[0m             \u001b[0mloss\u001b[0m \u001b[0;34m=\u001b[0m \u001b[0mcriterion\u001b[0m\u001b[0;34m(\u001b[0m\u001b[0mout\u001b[0m\u001b[0;34m,\u001b[0m \u001b[0mlabels\u001b[0m\u001b[0;34m)\u001b[0m\u001b[0;34m\u001b[0m\u001b[0;34m\u001b[0m\u001b[0m\n",
      "\u001b[0;32m~/opt/anaconda3/lib/python3.8/site-packages/torch/optim/optimizer.py\u001b[0m in \u001b[0;36mzero_grad\u001b[0;34m(self, set_to_none)\u001b[0m\n\u001b[1;32m    211\u001b[0m                             \u001b[0mp\u001b[0m\u001b[0;34m.\u001b[0m\u001b[0mgrad\u001b[0m \u001b[0;34m=\u001b[0m \u001b[0;32mNone\u001b[0m\u001b[0;34m\u001b[0m\u001b[0;34m\u001b[0m\u001b[0m\n\u001b[1;32m    212\u001b[0m                         \u001b[0;32melse\u001b[0m\u001b[0;34m:\u001b[0m\u001b[0;34m\u001b[0m\u001b[0;34m\u001b[0m\u001b[0m\n\u001b[0;32m--> 213\u001b[0;31m                             \u001b[0;32mif\u001b[0m \u001b[0mp\u001b[0m\u001b[0;34m.\u001b[0m\u001b[0mgrad\u001b[0m\u001b[0;34m.\u001b[0m\u001b[0mgrad_fn\u001b[0m \u001b[0;32mis\u001b[0m \u001b[0;32mnot\u001b[0m \u001b[0;32mNone\u001b[0m\u001b[0;34m:\u001b[0m\u001b[0;34m\u001b[0m\u001b[0;34m\u001b[0m\u001b[0m\n\u001b[0m\u001b[1;32m    214\u001b[0m                                 \u001b[0mp\u001b[0m\u001b[0;34m.\u001b[0m\u001b[0mgrad\u001b[0m\u001b[0;34m.\u001b[0m\u001b[0mdetach_\u001b[0m\u001b[0;34m(\u001b[0m\u001b[0;34m)\u001b[0m\u001b[0;34m\u001b[0m\u001b[0;34m\u001b[0m\u001b[0m\n\u001b[1;32m    215\u001b[0m                             \u001b[0;32melse\u001b[0m\u001b[0;34m:\u001b[0m\u001b[0;34m\u001b[0m\u001b[0;34m\u001b[0m\u001b[0m\n",
      "\u001b[0;32m~/opt/anaconda3/lib/python3.8/site-packages/torch/_tensor.py\u001b[0m in \u001b[0;36mgrad\u001b[0;34m(self)\u001b[0m\n\u001b[1;32m   1011\u001b[0m             \u001b[0;32mreturn\u001b[0m \u001b[0mhandle_torch_function\u001b[0m\u001b[0;34m(\u001b[0m\u001b[0mTensor\u001b[0m\u001b[0;34m.\u001b[0m\u001b[0mgrad\u001b[0m\u001b[0;34m.\u001b[0m\u001b[0m__get__\u001b[0m\u001b[0;34m,\u001b[0m \u001b[0;34m(\u001b[0m\u001b[0mself\u001b[0m\u001b[0;34m,\u001b[0m\u001b[0;34m)\u001b[0m\u001b[0;34m,\u001b[0m \u001b[0mself\u001b[0m\u001b[0;34m)\u001b[0m  \u001b[0;31m# type: ignore[attr-defined]\u001b[0m\u001b[0;34m\u001b[0m\u001b[0;34m\u001b[0m\u001b[0m\n\u001b[1;32m   1012\u001b[0m \u001b[0;34m\u001b[0m\u001b[0m\n\u001b[0;32m-> 1013\u001b[0;31m         \u001b[0;32mreturn\u001b[0m \u001b[0mself\u001b[0m\u001b[0;34m.\u001b[0m\u001b[0m_grad\u001b[0m\u001b[0;34m\u001b[0m\u001b[0;34m\u001b[0m\u001b[0m\n\u001b[0m\u001b[1;32m   1014\u001b[0m \u001b[0;34m\u001b[0m\u001b[0m\n\u001b[1;32m   1015\u001b[0m     \u001b[0;34m@\u001b[0m\u001b[0mgrad\u001b[0m\u001b[0;34m.\u001b[0m\u001b[0msetter\u001b[0m\u001b[0;34m\u001b[0m\u001b[0;34m\u001b[0m\u001b[0m\n",
      "\u001b[0;31mKeyboardInterrupt\u001b[0m: "
     ]
    }
   ],
   "source": [
    "agent.train(iterations = 200, checkpoint = 5, initial_money = initial_money)"
   ]
  },
  {
   "cell_type": "code",
   "execution_count": 129,
   "metadata": {},
   "outputs": [
    {
     "name": "stdout",
     "output_type": "stream",
     "text": [
      "day 208: buy 2 sell 1 at difference 3.746360, total balance 10003.746360\n",
      "day 209: buy 1 sell 2 at difference 3.527975, total balance 10000.218386\n",
      "day 396: buy 2 sell 1 at difference 18.138028, total balance 10018.356414\n",
      "day 397: buy 1 sell 2 at difference 19.313280, total balance 9999.043133\n",
      "day 545: buy 2 sell 1 at difference 3.377113, total balance 10002.420247\n",
      "day 546: buy 1 sell 2 at difference 2.579078, total balance 9999.841169\n",
      "day 618: buy 2 sell 1 at difference -2.848626, total balance 9996.992543\n",
      "day 619: buy 1 sell 2 at difference -3.803067, total balance 10000.795609\n"
     ]
    }
   ],
   "source": [
    "states_buy, states_sell, total_gains, invest = agent.buy(initial_money = initial_money)"
   ]
  },
  {
   "cell_type": "code",
   "execution_count": 130,
   "metadata": {},
   "outputs": [
    {
     "data": {
      "image/png": "[encoded data removed]",
      "text/plain": [
       "<Figure size 1080x360 with 1 Axes>"
      ]
     },
     "metadata": {
      "needs_background": "light"
     },
     "output_type": "display_data"
    }
   ],
   "source": [
    "import matplotlib.pyplot as plt\n",
    "\n",
    "fig = plt.figure(figsize = (15,5))\n",
    "plt.plot(close, color='r', lw=2.)\n",
    "plt.plot(close, '^', markersize=10, color='m', label = 'buying signal', markevery = states_buy)\n",
    "plt.plot(close, 'v', markersize=10, color='k', label = 'selling signal', markevery = states_sell)\n",
    "plt.title('total gains %f, total investment %f%%'%(total_gains, invest))\n",
    "plt.legend(), '^'\n",
    "plt.show()"
   ]
  },
  {
   "cell_type": "code",
   "execution_count": 132,
   "metadata": {},
   "outputs": [
    {
     "data": {
      "text/plain": [
       "4"
      ]
     },
     "execution_count": 132,
     "metadata": {},
     "output_type": "execute_result"
    }
   ],
   "source": [
    "len(states_buy)"
   ]
  },
  {
   "cell_type": "code",
   "execution_count": 131,
   "metadata": {},
   "outputs": [
    {
     "data": {
      "text/plain": [
       "4"
      ]
     },
     "execution_count": 131,
     "metadata": {},
     "output_type": "execute_result"
    }
   ],
   "source": [
    "len(states_sell)"
   ]
  },
  {
   "cell_type": "code",
   "execution_count": 134,
   "metadata": {},
   "outputs": [
    {
     "data": {
      "text/plain": [
       "3"
      ]
     },
     "execution_count": 134,
     "metadata": {},
     "output_type": "execute_result"
    }
   ],
   "source": [
    "len(states_buy[4-3:4])"
   ]
  },
  {
   "cell_type": "code",
   "execution_count": null,
   "metadata": {},
   "outputs": [],
   "source": []
  }
 ],
 "metadata": {
  "kernelspec": {
   "display_name": "Python 3 (ipykernel)",
   "language": "python",
   "name": "python3"
  },
  "language_info": {
   "codemirror_mode": {
    "name": "ipython",
    "version": 3
   },
   "file_extension": ".py",
   "mimetype": "text/x-python",
   "name": "python",
   "nbconvert_exporter": "python",
   "pygments_lexer": "ipython3",
   "version": "3.8.3"
  }
 },
 "nbformat": 4,
 "nbformat_minor": 4
}
